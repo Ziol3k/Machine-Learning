{
 "cells": [
  {
   "cell_type": "markdown",
   "metadata": {},
   "source": [
    "## Hierarchical methods"
   ]
  },
  {
   "cell_type": "markdown",
   "metadata": {},
   "source": [
    "We have two different types of hierarchical methods:\n",
    "- agglomerative,\n",
    "- divisive.\n",
    "\n",
    "Both methods base on dendrograms, a structure that looks like a tree, dividing or merging the cluster at each level. The agglomerative method merge clusters until we get one cluster with all objects. The divisive method divide one cluster into two at each stage. We end if we get clusters where each consits of one object only."
   ]
  },
  {
   "cell_type": "markdown",
   "metadata": {},
   "source": [
    "## Libraries and functions\n",
    "\n",
    "For implementing both methods we use only two libaries are needed and one function that was used in previous notebooks."
   ]
  },
  {
   "cell_type": "code",
   "metadata": {
    "ExecuteTime": {
     "end_time": "2025-04-01T19:16:07.432324Z",
     "start_time": "2025-04-01T19:16:07.362304Z"
    }
   },
   "source": [
    "import numpy as np\n",
    "from math import sqrt\n",
    "\n",
    "def calculate_distance(x,v):\n",
    "    return sqrt((x[0]-v[0])**2+(x[1]-v[1])**2)"
   ],
   "outputs": [],
   "execution_count": 1
  },
  {
   "cell_type": "markdown",
   "metadata": {},
   "source": [
    "## Agglomerative clustering\n",
    "\n",
    "We need to keep the dendrogram and the history, so we can easily draw it."
   ]
  },
  {
   "cell_type": "code",
   "metadata": {
    "ExecuteTime": {
     "end_time": "2025-04-01T19:16:07.444880Z",
     "start_time": "2025-04-01T19:16:07.441634Z"
    }
   },
   "source": [
    "%store -r data_set \n",
    "\n",
    "distance_matrix = np.zeros((len(data_set), len(data_set)))\n",
    "current_dendrograms = [] \n",
    "\n",
    "for iter in range(len(data_set)):\n",
    "    current_dendrograms.append(data_set[iter])"
   ],
   "outputs": [],
   "execution_count": 2
  },
  {
   "cell_type": "markdown",
   "metadata": {},
   "source": [
    "Pydot enables to use graphviz to visualize a dendrogram."
   ]
  },
  {
   "cell_type": "code",
   "metadata": {
    "ExecuteTime": {
     "end_time": "2025-04-01T19:16:07.534055Z",
     "start_time": "2025-04-01T19:16:07.514525Z"
    }
   },
   "source": [
    "import pydot\n",
    "import math"
   ],
   "outputs": [],
   "execution_count": 3
  },
  {
   "cell_type": "markdown",
   "metadata": {},
   "source": [
    "The tree object is the root where each edge is added."
   ]
  },
  {
   "cell_type": "code",
   "metadata": {
    "ExecuteTime": {
     "end_time": "2025-04-01T19:16:07.578379Z",
     "start_time": "2025-04-01T19:16:07.574478Z"
    }
   },
   "source": [
    "tree = pydot.Dot(graph_type='graph')"
   ],
   "outputs": [],
   "execution_count": 4
  },
  {
   "cell_type": "markdown",
   "metadata": {},
   "source": [
    "In agglomerative we merge two clusters together on each step:"
   ]
  },
  {
   "cell_type": "code",
   "metadata": {
    "ExecuteTime": {
     "end_time": "2025-04-01T19:16:07.622732Z",
     "start_time": "2025-04-01T19:16:07.620250Z"
    }
   },
   "source": [
    "def merge_elements(current_dendrograms, merged_list, i):\n",
    "    if isinstance(current_dendrograms[i][0], type(np.array([]))):\n",
    "        for iter in range(len(current_dendrograms[i])):\n",
    "            merged_list.append(current_dendrograms[i][iter])\n",
    "    else:\n",
    "        merged_list.append(current_dendrograms[i])\n",
    "    return merged_list"
   ],
   "outputs": [],
   "execution_count": 5
  },
  {
   "cell_type": "markdown",
   "metadata": {},
   "source": [
    "We need to set the current dendrogram level at each step:"
   ]
  },
  {
   "cell_type": "code",
   "metadata": {
    "ExecuteTime": {
     "end_time": "2025-04-01T19:16:07.671909Z",
     "start_time": "2025-04-01T19:16:07.667677Z"
    }
   },
   "source": [
    "def set_current_dendrogram(current_dendrograms, dendrograms_hist, i, j):\n",
    "    elements = []\n",
    "    hist = []\n",
    "    current_hist = dendrograms_hist[-1]\n",
    "    for iter in range(len(current_dendrograms)):\n",
    "        if iter != i and iter !=j:\n",
    "            elements.append(current_dendrograms[iter])\n",
    "            hist.append(current_hist[iter])\n",
    "    merged_elements = []\n",
    "    merged_elements = merge_elements(current_dendrograms, merged_elements, i)\n",
    "    merged_elements = merge_elements(current_dendrograms, merged_elements, j)\n",
    "    elements.append(merged_elements)\n",
    "    hist.append([current_hist[i],current_hist[j]])\n",
    "    dendrograms_hist.append(hist)\n",
    "    current_dendrograms = elements\n",
    "    return current_dendrograms, dendrograms_hist"
   ],
   "outputs": [],
   "execution_count": 6
  },
  {
   "cell_type": "markdown",
   "metadata": {},
   "source": [
    "At each stage a distance matrix needs to be calculated:"
   ]
  },
  {
   "cell_type": "code",
   "metadata": {
    "ExecuteTime": {
     "end_time": "2025-04-01T19:16:07.719807Z",
     "start_time": "2025-04-01T19:16:07.716187Z"
    }
   },
   "source": [
    "def calculate_dendogram_distance_matrix(current_dendrograms, distance_matrix):\n",
    "    distance_matrix = np.zeros((len(current_dendrograms), len(current_dendrograms)))\n",
    "    for i in range(len(current_dendrograms)):\n",
    "        for j in range(len(current_dendrograms)):\n",
    "            distance_matrix[i, j] = calculate_distance(calculate_centroid(current_dendrograms[i]),calculate_centroid(current_dendrograms[j]))\n",
    "    return distance_matrix"
   ],
   "outputs": [],
   "execution_count": 7
  },
  {
   "cell_type": "markdown",
   "metadata": {},
   "source": [
    "The code abobve needs the centroids' average:"
   ]
  },
  {
   "cell_type": "code",
   "metadata": {
    "ExecuteTime": {
     "end_time": "2025-04-01T19:16:07.770744Z",
     "start_time": "2025-04-01T19:16:07.767730Z"
    }
   },
   "source": [
    "def calculate_centroid(dendrogram_elements):\n",
    "    if type(dendrogram_elements) is list:\n",
    "        sumof=np.zeros(len(dendrogram_elements[0]))\n",
    "        for iter in range(len(dendrogram_elements)):\n",
    "            sumof=np.add(sumof,np.array(dendrogram_elements[iter]))\n",
    "        if sumof.shape == (len(data_set[0]),len(data_set[0])):\n",
    "            pass\n",
    "        return np.divide(sumof*1.0, len(dendrogram_elements)*1.0)\n",
    "    else:\n",
    "        return dendrogram_elements"
   ],
   "outputs": [],
   "execution_count": 8
  },
  {
   "cell_type": "markdown",
   "metadata": {},
   "source": [
    "For agglomerative we take the lowest distance from the distance matrix:"
   ]
  },
  {
   "cell_type": "code",
   "metadata": {
    "ExecuteTime": {
     "end_time": "2025-04-01T19:16:07.822512Z",
     "start_time": "2025-04-01T19:16:07.817175Z"
    }
   },
   "source": [
    "def get_lowest_from_distance_matrix(distance_matrix):\n",
    "    lowest_indexes = [0,1]\n",
    "    lowest_value = distance_matrix[0,1]\n",
    "    for i in range(len(distance_matrix)):\n",
    "        for j in range(len(distance_matrix)):\n",
    "            if i != j:\n",
    "                if lowest_value > distance_matrix[i,j]:\n",
    "                    lowest_value = distance_matrix[i,j]\n",
    "                    lowest_indexes = [i,j]\n",
    "    return lowest_indexes"
   ],
   "outputs": [],
   "execution_count": 9
  },
  {
   "cell_type": "markdown",
   "metadata": {},
   "source": [
    "Combine it together:"
   ]
  },
  {
   "cell_type": "code",
   "metadata": {
    "ExecuteTime": {
     "end_time": "2025-04-01T19:16:07.873179Z",
     "start_time": "2025-04-01T19:16:07.867930Z"
    }
   },
   "source": [
    "def cluster_agg(current_dendrograms, distance_matrix):\n",
    "    dendrograms_hist = [list(range(len(data_set)))]\n",
    "    for iter in range(len(current_dendrograms)-1):\n",
    "        distance_matrix = calculate_dendogram_distance_matrix(current_dendrograms, distance_matrix)\n",
    "        [i, j] = get_lowest_from_distance_matrix(distance_matrix)\n",
    "        current_dendrograms, dendrograms_hist = set_current_dendrogram(current_dendrograms, dendrograms_hist, i, j)\n",
    "    return dendrograms_hist"
   ],
   "outputs": [],
   "execution_count": 10
  },
  {
   "cell_type": "markdown",
   "metadata": {},
   "source": [
    "And execute it:"
   ]
  },
  {
   "cell_type": "code",
   "metadata": {
    "ExecuteTime": {
     "end_time": "2025-04-01T19:16:07.922275Z",
     "start_time": "2025-04-01T19:16:07.917655Z"
    }
   },
   "source": [
    "dendrogram_hist_agg = cluster_agg(current_dendrograms, distance_matrix)"
   ],
   "outputs": [],
   "execution_count": 11
  },
  {
   "cell_type": "markdown",
   "metadata": {},
   "source": [
    "We use pydot to print the dendrogram:"
   ]
  },
  {
   "cell_type": "code",
   "metadata": {
    "ExecuteTime": {
     "end_time": "2025-04-01T19:16:07.969859Z",
     "start_time": "2025-04-01T19:16:07.966700Z"
    }
   },
   "source": [
    "def add_edge(level, acesor):\n",
    "    if acesor != level:\n",
    "        new_edge = pydot.Edge(str(acesor), str(level))\n",
    "        tree.add_edge(new_edge)\n",
    "    if isinstance(level,list):\n",
    "        add_edge(level[0],level)\n",
    "        add_edge(level[1],level)\n",
    "        \n",
    "def show_tree_agg():\n",
    "    current_list = dendrogram_hist_agg.pop()\n",
    "    root = current_list.pop()\n",
    "    add_edge(root,root)\n",
    "    tree.write('tree_agg.png',format='png')        "
   ],
   "outputs": [],
   "execution_count": 12
  },
  {
   "cell_type": "markdown",
   "metadata": {},
   "source": [
    "Take a look at tree_agg.png if generated."
   ]
  },
  {
   "cell_type": "code",
   "metadata": {
    "ExecuteTime": {
     "end_time": "2025-04-01T19:16:08.067485Z",
     "start_time": "2025-04-01T19:16:08.025856Z"
    }
   },
   "source": [
    "show_tree_agg()"
   ],
   "outputs": [],
   "execution_count": 13
  },
  {
   "cell_type": "code",
   "metadata": {
    "ExecuteTime": {
     "end_time": "2025-04-01T19:16:08.095067Z",
     "start_time": "2025-04-01T19:16:08.086547Z"
    }
   },
   "source": [
    "from IPython.display import Image\n",
    "Image(filename='tree_agg.png') "
   ],
   "outputs": [
    {
     "data": {
      "image/png": "[encoded data removed]",
      "text/plain": [
       "<IPython.core.display.Image object>"
      ]
     },
     "execution_count": 14,
     "metadata": {},
     "output_type": "execute_result"
    }
   ],
   "execution_count": 14
  },
  {
   "cell_type": "markdown",
   "metadata": {},
   "source": [
    "## Divisive clustering\n",
    "\n",
    "Compared to the previous methods, we do the same, but in the opposite direction. We setup the same data, but the current dendrogram contains the whole data set as one cluster. "
   ]
  },
  {
   "cell_type": "code",
   "metadata": {
    "ExecuteTime": {
     "end_time": "2025-04-01T19:16:08.148525Z",
     "start_time": "2025-04-01T19:16:08.146275Z"
    }
   },
   "source": [
    "tree = pydot.Dot(graph_type='graph')"
   ],
   "outputs": [],
   "execution_count": 15
  },
  {
   "cell_type": "markdown",
   "metadata": {},
   "source": [
    "We use a more efficient solution for the distance matrix calculation. In the following example, we calculate it once and extract the distances every time needed. This is why the below method is invoked only once."
   ]
  },
  {
   "cell_type": "code",
   "metadata": {
    "ExecuteTime": {
     "end_time": "2025-04-01T19:16:08.210994Z",
     "start_time": "2025-04-01T19:16:08.208517Z"
    }
   },
   "source": [
    "def calculate_dendogram_distance_matrix_diana():\n",
    "    distance_matrix=np.zeros((len(data_set), len(data_set)))\n",
    "    for i in range(len(data_set)):\n",
    "        for j in range(len(data_set)):\n",
    "            distance_matrix[i, j] = calculate_distance(calculate_centroid(data_set[i]),calculate_centroid(data_set[j]))\n",
    "    return distance_matrix"
   ],
   "outputs": [],
   "execution_count": 16
  },
  {
   "cell_type": "markdown",
   "metadata": {},
   "source": [
    "There are two new methods that needs to be implemented. The first one returns the cluster that needs to be divided:"
   ]
  },
  {
   "cell_type": "code",
   "metadata": {
    "ExecuteTime": {
     "end_time": "2025-04-01T19:16:08.271792Z",
     "start_time": "2025-04-01T19:16:08.267959Z"
    }
   },
   "source": [
    "def choose_cluster(current_level, distance_matrix):\n",
    "    if type(current_level[0]) != list:\n",
    "        both_idx = np.array(current_level)\n",
    "        current = distance_matrix[both_idx[:,None], both_idx]\n",
    "        diff = np.sum(current) / (current.shape[0] * current.shape[1] - len(current))\n",
    "        return current_level, diff, 0\n",
    "    highest_diff = 0\n",
    "    cluster_id = 0\n",
    "    for i in range(len(current_level)):\n",
    "        both_idx = np.array(current_level[i])\n",
    "        current = distance_matrix[both_idx[:, None], both_idx]\n",
    "        diff = np.sum(current) / (current.shape[0] * current.shape[1]-len(current))\n",
    "        if diff > highest_diff:\n",
    "            highest_diff = diff\n",
    "            cluster_id = i\n",
    "    return current_level[cluster_id], highest_diff, cluster_id"
   ],
   "outputs": [],
   "execution_count": 17
  },
  {
   "cell_type": "markdown",
   "metadata": {},
   "source": [
    "The second method split the cluster into two clusters by counting the closest distances to each object in the cluster. Objects in both clusters are the closest ones."
   ]
  },
  {
   "cell_type": "code",
   "metadata": {
    "ExecuteTime": {
     "end_time": "2025-04-01T19:16:08.331045Z",
     "start_time": "2025-04-01T19:16:08.327306Z"
    }
   },
   "source": [
    "def split(split_cluster, distance_matrix, diff):\n",
    "    if len(split_cluster) == 2:\n",
    "        cluster1 = [split_cluster[0]]\n",
    "        cluster2 = [split_cluster[1]]\n",
    "        return cluster1, cluster2\n",
    "    split_threshold = diff\n",
    "    both_idx = np.array(split_cluster)\n",
    "    distances = distance_matrix[both_idx[:, None], both_idx]\n",
    "    c1keys, c1counts = np.unique(np.argwhere(distances > split_threshold), return_counts=True)\n",
    "    c2keys, c2counts = np.unique(np.argwhere(distances <= split_threshold), return_counts=True)\n",
    "    cluster1_counts = dict(zip(np.array(split_cluster)[c1keys], c1counts))\n",
    "    cluster2_counts = dict(zip(np.array(split_cluster)[c2keys], c2counts))\n",
    "    cluster1 = []\n",
    "    cluster2 = []\n",
    "    choice = 0\n",
    "    for item in split_cluster:\n",
    "        if item not in cluster1_counts.keys():\n",
    "            cluster2.append(item)\n",
    "            continue\n",
    "        if item not in cluster2_counts.keys():\n",
    "            cluster1.append(item)\n",
    "            continue\n",
    "        if cluster1_counts[item] < cluster2_counts[item]:\n",
    "            cluster2.append(item)\n",
    "        elif cluster1_counts[item] > cluster2_counts[item]:\n",
    "            cluster1.append(item)\n",
    "        else:\n",
    "            if choice == 0:\n",
    "                cluster2.append(item)\n",
    "                choice = 1\n",
    "            else:\n",
    "                cluster1.append(item)\n",
    "                choice = 0\n",
    "    return cluster1, cluster2"
   ],
   "outputs": [],
   "execution_count": 18
  },
  {
   "cell_type": "markdown",
   "metadata": {},
   "source": [
    "Combine it all together:"
   ]
  },
  {
   "cell_type": "code",
   "metadata": {
    "ExecuteTime": {
     "end_time": "2025-04-01T19:16:08.383880Z",
     "start_time": "2025-04-01T19:16:08.378607Z"
    }
   },
   "source": [
    "def cluster():\n",
    "    dendrograms_history=[]\n",
    "    current_dendrograms=[list(range(len(data_set)))]\n",
    "    distance_matrix = calculate_dendogram_distance_matrix_diana()\n",
    "    while len(current_dendrograms) != len(data_set):\n",
    "        current_level = current_dendrograms[-1]\n",
    "        current_cluster, diff, cluster_id = choose_cluster(current_level, distance_matrix)\n",
    "        cluster1, cluster2 = split(current_cluster, distance_matrix, diff)\n",
    "        if type(current_level[0]) != list:\n",
    "            current_dendrograms.append([cluster1, cluster2])\n",
    "        else:\n",
    "            rest = current_level.copy()\n",
    "            rest.pop(cluster_id)\n",
    "            rest.append(cluster1)\n",
    "            rest.append(cluster2)\n",
    "            current_dendrograms.append(rest)\n",
    "        hist = [{\"acesor\": current_cluster, \"childs\": [cluster1,cluster2]}]\n",
    "        dendrograms_history.append(hist)\n",
    "    return dendrograms_history"
   ],
   "outputs": [],
   "execution_count": 19
  },
  {
   "cell_type": "markdown",
   "metadata": {},
   "source": [
    "We get the dendrogram levels with:"
   ]
  },
  {
   "cell_type": "code",
   "metadata": {
    "ExecuteTime": {
     "end_time": "2025-04-01T19:16:08.435720Z",
     "start_time": "2025-04-01T19:16:08.428716Z"
    }
   },
   "source": [
    "dendrogram_hist_diana = cluster()\n",
    "\n",
    "%store dendrogram_hist_diana"
   ],
   "outputs": [
    {
     "name": "stdout",
     "output_type": "stream",
     "text": [
      "Stored 'dendrogram_hist_diana' (list)\n"
     ]
    },
    {
     "name": "stderr",
     "output_type": "stream",
     "text": [
      "/tmp/ipykernel_23146/3794691773.py:12: RuntimeWarning: invalid value encountered in scalar divide\n",
      "  diff = np.sum(current) / (current.shape[0] * current.shape[1]-len(current))\n"
     ]
    }
   ],
   "execution_count": 20
  },
  {
   "cell_type": "markdown",
   "metadata": {},
   "source": [
    "The method that draw the dendrogram is a bit different compared to the agglomerative method:"
   ]
  },
  {
   "cell_type": "code",
   "metadata": {
    "ExecuteTime": {
     "end_time": "2025-04-01T19:16:08.481319Z",
     "start_time": "2025-04-01T19:16:08.478899Z"
    }
   },
   "source": [
    "def show_tree_divisive():\n",
    "    for item in dendrogram_hist_diana:\n",
    "        for child in item[0][\"childs\"]:\n",
    "            new_edge = pydot.Edge(str(item[0][\"acesor\"]),str(child))\n",
    "            tree.add_edge(new_edge)\n",
    "    tree.write('tree_diana.png',format='png')"
   ],
   "outputs": [],
   "execution_count": 21
  },
  {
   "cell_type": "code",
   "metadata": {
    "ExecuteTime": {
     "end_time": "2025-04-01T19:16:08.552348Z",
     "start_time": "2025-04-01T19:16:08.526114Z"
    }
   },
   "source": [
    "show_tree_divisive()"
   ],
   "outputs": [],
   "execution_count": 22
  },
  {
   "cell_type": "markdown",
   "metadata": {},
   "source": [
    "We can display the dendrogram the same as in the previous example:"
   ]
  }
 ],
 "metadata": {
  "kernelspec": {
   "display_name": "Python 3",
   "language": "python",
   "name": "python3"
  },
  "language_info": {
   "codemirror_mode": {
    "name": "ipython",
    "version": 3
   },
   "file_extension": ".py",
   "mimetype": "text/x-python",
   "name": "python",
   "nbconvert_exporter": "python",
   "pygments_lexer": "ipython3",
   "version": "3.6.9"
  }
 },
 "nbformat": 4,
 "nbformat_minor": 4
}
