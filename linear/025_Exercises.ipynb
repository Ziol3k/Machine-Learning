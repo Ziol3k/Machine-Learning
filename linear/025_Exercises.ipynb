{
 "cells": [
  {
   "cell_type": "markdown",
   "metadata": {},
   "source": [
    "# Exercises\n",
    "\n",
    "There are three exercises in this notebook:\n",
    "\n",
    "1. Use the cross-validation method to test the linear regression with different $\\alpha$ values, at least three.\n",
    "2. Implement a SGD method that will train the Lasso regression for 10 epochs.\n",
    "3. Extend the Fisher's classifier to work with two features. Use the class as the $y$."
   ]
  },
  {
   "cell_type": "markdown",
   "metadata": {},
   "source": [
    "## 1. Cross-validation linear regression\n",
    "\n",
    "You need to change the variable ``alpha`` to be a list of alphas. Next do a loop and finally compare the results."
   ]
  },
  {
   "cell_type": "code",
   "execution_count": 10,
   "metadata": {},
   "outputs": [
    {
     "name": "stdout",
     "output_type": "stream",
     "text": [
      "Alpha: 0.01 | My method: [[-167.85534019    1.54416013]] | Sklearn Ridge coefficients: [-167.85534019    1.54416013]\n",
      "Alpha: 0.1 | My method: [[-101.72397081    1.16978757]] | Sklearn Ridge coefficients: [-101.72397081    1.16978757]\n",
      "Alpha: 1.0 | My method: [[-20.59044706   0.71048616]] | Sklearn Ridge coefficients: [-20.59044706   0.71048616]\n"
     ]
    }
   ],
   "source": [
    "import numpy as np\n",
    "from sklearn.linear_model import Ridge\n",
    "\n",
    "x = np.array([188, 181, 197, 168, 167, 187, 178, 194, 140, 176, 168, 192, 173, 142, 176]).reshape(-1, 1)\n",
    "y = np.array([141, 106, 149, 59, 79, 136, 65, 136, 52, 87, 115, 140, 82, 69, 121]).reshape(-1, 1)\n",
    "\n",
    "x = np.asmatrix(np.c_[np.ones((15,1)),x])\n",
    "\n",
    "I = np.identity(2)\n",
    "alpha_values = [0.01, 0.1, 1.0] # change here\n",
    "\n",
    "# add 1-3 line of code here\n",
    "for alpha in alpha_values:\n",
    "    w = np.linalg.inv(x.T@x + alpha * I)@x.T@y\n",
    "    w=w.ravel()\n",
    "\n",
    "    ridge_reg = Ridge(alpha, fit_intercept=False)\n",
    "    ridge_reg.fit(np.asarray(x), np.asarray(y))\n",
    "# add 1-3 lines to compare the results\n",
    "\n",
    "    print(f\"Alpha: {alpha} | My method: {w} | Sklearn Ridge coefficients: {ridge_reg.coef_}\")\n"
   ]
  },
  {
   "cell_type": "markdown",
   "metadata": {},
   "source": [
    "## 2. Implement based on the Ridge regression example, the Lasso regression.\n",
    "\n",
    "Please implement the SGD method and compare the results with the sklearn Lasso regression results. "
   ]
  },
  {
   "cell_type": "code",
   "execution_count": 45,
   "metadata": {},
   "outputs": [],
   "source": [
    "import numpy as np\n",
    "from sklearn.linear_model import Lasso\n",
    "from sklearn.preprocessing import StandardScaler"
   ]
  },
  {
   "cell_type": "code",
   "execution_count": null,
   "metadata": {},
   "outputs": [],
   "source": [
    "def sgd(x, y, alpha, epochs):\n",
    "    lambda_reg=0.1\n",
    "    m = len(y)\n",
    "    theta = np.zeros((x.shape[1], 1))  \n",
    "\n",
    "    for epoch in range(epochs):\n",
    "        for j in range(m):\n",
    "            rand_index = np.random.randint(m)\n",
    "            x_i = x[rand_index:rand_index+1]\n",
    "            y_i = y[rand_index:rand_index+1]\n",
    "\n",
    "            gradient = x_i.T @ (x_i @ theta - y_i) + lambda_reg * np.sign(theta)\n",
    "            theta -= alpha * gradient\n",
    "\n",
    "    return theta"
   ]
  },
  {
   "cell_type": "code",
   "execution_count": 63,
   "metadata": {},
   "outputs": [
    {
     "name": "stdout",
     "output_type": "stream",
     "text": [
      "\n",
      "SGD Lasso Weights:\n",
      "  w0 (bias)   = 102.5132404634815\n",
      "  w1 (weight) = 25.363737594211795\n",
      "\n",
      "Sklearn Lasso Weights:\n",
      "  w0 (bias)   = 102.36666666666665\n",
      "  w1 (weight) = 26.237253654669942\n"
     ]
    }
   ],
   "source": [
    "x = np.array([188, 181, 197, 168, 167, 187, 178, 194, 140, 176, 168, 192, 173, 142, 176]).reshape(-1, 1)\n",
    "y = np.array([141, 106, 149, 59, 79, 136, 65, 136, 52, 87, 115, 140, 82, 69, 121]).reshape(-1, 1)\n",
    "\n",
    "scaler = StandardScaler()\n",
    "x_scaled = scaler.fit_transform(x)\n",
    "\n",
    "x_scaled = np.c_[np.ones((x_scaled.shape[0], 1)), x_scaled]\n",
    "\n",
    "alpha = 0.01 \n",
    "epochs = 1000  \n",
    "lambda_reg = 0.1 \n",
    "\n",
    "sgd_weights = sgd(x_scaled, y, alpha, epochs)\n",
    "\n",
    "print(\"\\nSGD Lasso Weights:\")\n",
    "print(f\"  w0 (bias)   = {sgd_weights[0, 0]}\")\n",
    "print(f\"  w1 (weight) = {sgd_weights[1, 0]}\")\n",
    "\n",
    "lasso = Lasso(alpha=lambda_reg, fit_intercept=False)\n",
    "lasso.fit(x_scaled, y)\n",
    "lasso_weights = lasso.coef_\n",
    "\n",
    "print(\"\\nSklearn Lasso Weights:\")\n",
    "print(f\"  w0 (bias)   = {lasso_weights[0]}\")\n",
    "print(f\"  w1 (weight) = {lasso_weights[1]}\")"
   ]
  },
  {
   "cell_type": "markdown",
   "metadata": {},
   "source": [
    "## 3. Extend the Fisher's classifier\n",
    "\n",
    "Please extend the targets of the ``iris_data`` variable and use it as the $y$."
   ]
  },
  {
   "cell_type": "code",
   "execution_count": 27,
   "metadata": {},
   "outputs": [
    {
     "data": {
      "image/png": "[encoded data removed]",
      "text/plain": [
       "<Figure size 640x480 with 1 Axes>"
      ]
     },
     "metadata": {},
     "output_type": "display_data"
    }
   ],
   "source": [
    "import pandas as pd\n",
    "import numpy as np\n",
    "import matplotlib.pyplot as plt\n",
    "from sklearn.datasets import load_iris\n",
    "\n",
    "iris_data = load_iris()\n",
    "iris_df = pd.DataFrame(iris_data.data,columns=iris_data.feature_names)\n",
    "iris_df.head()\n",
    "x = iris_df['sepal width (cm)'].values # change here\n",
    "y = iris_data.target # change here\n",
    "\n",
    "dataset_size = np.size(x)\n",
    "\n",
    "mean_x, mean_y = np.mean(x), np.mean(y)\n",
    "\n",
    "SS_xy = np.sum(y * x) - dataset_size * mean_y * mean_x\n",
    "SS_xx = np.sum(x * x) - dataset_size * mean_x * mean_x\n",
    "\n",
    "a = SS_xy / SS_xx\n",
    "b = mean_y - a * mean_x\n",
    "\n",
    "\n",
    "y_pred = a * x + b\n",
    "\n",
    "\n",
    "plt.scatter(x, y, color='green', label='True Labels') \n",
    "plt.plot(x, y_pred, color='red', label='Fishers line') \n",
    "plt.legend()\n",
    "plt.xlabel('Sepal Width (cm)')\n",
    "plt.ylabel('Target Class')\n",
    "plt.show()"
   ]
  },
  {
   "metadata": {
    "ExecuteTime": {
     "end_time": "2025-03-31T14:59:25.917994Z",
     "start_time": "2025-03-31T14:59:25.907718Z"
    }
   },
   "cell_type": "code",
   "source": [
    "from IPython import paths\n",
    "print(paths.get_ipython_dir())\n"
   ],
   "outputs": [
    {
     "name": "stdout",
     "output_type": "stream",
     "text": [
      "C:\\Users\\jan_z\\.ipython\n"
     ]
    }
   ],
   "execution_count": 2
  }
 ],
 "metadata": {
  "kernelspec": {
   "display_name": "Python 3",
   "language": "python",
   "name": "python3"
  },
  "language_info": {
   "codemirror_mode": {
    "name": "ipython",
    "version": 3
   },
   "file_extension": ".py",
   "mimetype": "text/x-python",
   "name": "python",
   "nbconvert_exporter": "python",
   "pygments_lexer": "ipython3",
   "version": "3.11.9"
  }
 },
 "nbformat": 4,
 "nbformat_minor": 4
}
