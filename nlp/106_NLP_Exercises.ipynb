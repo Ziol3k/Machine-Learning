{
 "cells": [
  {
   "cell_type": "markdown",
   "metadata": {},
   "source": [
    "# NLP Exercises\n",
    "\n",
    "We have five exercises in this section. The exercises are:\n",
    "1. Build your own tokenizer, where you need to implement two functions to implement a tokenizer based on regular expression.\n",
    "2. Get tags from Trump speech.\n",
    "3. Get the nouns in the last 10 sentences from Trump's speech and find the nouns divided by sentencens. Use SpaCy.\n",
    "4. Build your own Bag Of Words implementation using tokenizer created before.\n",
    "5. Build a 5-gram model and clean up the results."
   ]
  },
  {
   "cell_type": "markdown",
   "metadata": {},
   "source": [
    "## Exercise 1. Build your own tokenizer\n",
    "\n",
    "Build two different tokenizers:\n",
    "- ``tokenize_sentence``: function tokenizing text into sentences,\n",
    "- ``tokenize_word``: function tokenizing text into words."
   ]
  },
  {
   "metadata": {
    "ExecuteTime": {
     "end_time": "2025-05-08T19:10:02.690033Z",
     "start_time": "2025-05-08T19:10:02.687492Z"
    }
   },
   "cell_type": "code",
   "source": [
    "import re\n",
    "from typing import List"
   ],
   "outputs": [],
   "execution_count": 70
  },
  {
   "metadata": {
    "ExecuteTime": {
     "end_time": "2025-05-08T19:10:02.737698Z",
     "start_time": "2025-05-08T19:10:02.733753Z"
    }
   },
   "cell_type": "code",
   "source": [
    "from typing import List\n",
    "\n",
    "def tokenize_words(text: str) -> List[str]:\n",
    "    tokens = re.findall(r\"\\b\\w+(?:'\\w+)?\\b\", text)\n",
    "    return tokens\n",
    "\n",
    "def tokenize_sentence(text: str) -> List[str]:\n",
    "    sentences = re.split(r'(?<=[.!?])\\s+', text.strip())\n",
    "    return sentences\n",
    "\n",
    "text = \"Here we go again. I was supposed to add this text later.\\\n",
    "Well, it's 10.p.m. here, and I'm actually having fun making this course. :o\\\n",
    "I hope you are getting along fine with this presentation, I really did try.\\\n",
    "And one last sentence, just so you can test you tokenizers better.\"\n",
    "\n",
    "print(\"Tokenized sentences:\")\n",
    "print(tokenize_sentence(text))\n",
    "\n",
    "print(\"Tokenized words:\")\n",
    "print(tokenize_words(text))"
   ],
   "outputs": [
    {
     "name": "stdout",
     "output_type": "stream",
     "text": [
      "Tokenized sentences:\n",
      "['Here we go again.', \"I was supposed to add this text later.Well, it's 10.p.m.\", \"here, and I'm actually having fun making this course.\", ':oI hope you are getting along fine with this presentation, I really did try.And one last sentence, just so you can test you tokenizers better.']\n",
      "Tokenized words:\n",
      "['Here', 'we', 'go', 'again', 'I', 'was', 'supposed', 'to', 'add', 'this', 'text', 'later', 'Well', \"it's\", '10', 'p', 'm', 'here', 'and', \"I'm\", 'actually', 'having', 'fun', 'making', 'this', 'course', 'oI', 'hope', 'you', 'are', 'getting', 'along', 'fine', 'with', 'this', 'presentation', 'I', 'really', 'did', 'try', 'And', 'one', 'last', 'sentence', 'just', 'so', 'you', 'can', 'test', 'you', 'tokenizers', 'better']\n"
     ]
    }
   ],
   "execution_count": 71
  },
  {
   "cell_type": "markdown",
   "metadata": {},
   "source": [
    "## Exercise 2. Get tags from Trump speech using NLTK\n",
    "\n",
    "You should use the ``trump.txt`` file, read it and find the tags for each word. Use NLTK for it."
   ]
  },
  {
   "metadata": {
    "ExecuteTime": {
     "end_time": "2025-05-08T19:10:02.751076Z",
     "start_time": "2025-05-08T19:10:02.749208Z"
    }
   },
   "cell_type": "code",
   "source": "",
   "outputs": [],
   "execution_count": null
  },
  {
   "metadata": {
    "ExecuteTime": {
     "end_time": "2025-05-08T19:10:02.903474Z",
     "start_time": "2025-05-08T19:10:02.783915Z"
    }
   },
   "cell_type": "code",
   "source": [
    "import nltk\n",
    "from nltk.tokenize import word_tokenize\n",
    "from nltk import pos_tag\n",
    "\n",
    "file = open(\"../datasets/trump.txt\", \"r\",encoding=\"utf-8\")\n",
    "trump = file.read()\n",
    "words = word_tokenize(trump)\n",
    "tags = pos_tag(words)\n",
    "print(tags[:20])\n",
    "# fill the gap and imports"
   ],
   "outputs": [
    {
     "name": "stdout",
     "output_type": "stream",
     "text": [
      "[('Thank', 'NNP'), ('you', 'PRP'), ('very', 'RB'), ('much', 'RB'), ('.', '.'), ('Mr.', 'NNP'), ('Speaker', 'NNP'), (',', ','), ('Mr.', 'NNP'), ('Vice', 'NNP'), ('President', 'NNP'), (',', ','), ('Members', 'NNP'), ('of', 'IN'), ('Congress', 'NNP'), (',', ','), ('the', 'DT'), ('First', 'NNP'), ('Lady', 'NNP'), ('of', 'IN')]\n"
     ]
    }
   ],
   "execution_count": 72
  },
  {
   "cell_type": "markdown",
   "metadata": {},
   "source": [
    "## Exercise 3. Get the nouns in the last 10 sentences from Trump's speech and find the nouns divided by sentencens. Use SpaCy.\n",
    "\n",
    "Please use Python list features to get the last 10 sentences and display nouns from it."
   ]
  },
  {
   "cell_type": "code",
   "metadata": {
    "ExecuteTime": {
     "end_time": "2025-05-08T19:10:03.835068Z",
     "start_time": "2025-05-08T19:10:02.955710Z"
    }
   },
   "source": [
    "import spacy\n",
    "\n",
    "nlp = spacy.load(\"en_core_web_sm\")\n",
    "\n",
    "file = open(\"../datasets/trump.txt\", \"r\",encoding='utf-8')\n",
    "trump = file.read() \n",
    "\n",
    "doc = nlp(trump)\n",
    "sentences = list(doc.sents)\n",
    "last_10_sentences = sentences[-10:]\n",
    "\n",
    "nouns_by_sentence = []\n",
    "\n",
    "for sent in last_10_sentences:\n",
    "    nouns = [token.text for token in sent if token.pos_ == \"NOUN\"]\n",
    "    nouns_by_sentence.append(nouns)\n",
    "\n",
    "for i, nouns in enumerate(nouns_by_sentence, start=1):\n",
    "    print(f\"Sentence {i} nouns: {nouns}\")\n",
    "### here comes your code\n"
   ],
   "outputs": [
    {
     "name": "stdout",
     "output_type": "stream",
     "text": [
      "Sentence 1 nouns: ['vision', 'years', 'freedom', 'tonight', 'chapter', 'greatness']\n",
      "Sentence 2 nouns: ['time', 'thinking']\n",
      "Sentence 3 nouns: ['time', 'fights']\n",
      "Sentence 4 nouns: ['courage', 'dreams', 'hearts', 'bravery', 'hopes', 'souls', 'confidence', 'hopes', 'dreams', 'action']\n",
      "Sentence 5 nouns: ['aspirations', 'fears', 'future', 'failures', 'past', 'vision', 'doubts']\n",
      "Sentence 6 nouns: ['citizens', 'renewal', 'spirit']\n",
      "Sentence 7 nouns: ['Members', 'things', 'country']\n",
      "Sentence 8 nouns: ['tonight', 'moment']\n",
      "Sentence 9 nouns: ['yourselves', 'future']\n",
      "Sentence 10 nouns: []\n"
     ]
    }
   ],
   "execution_count": 73
  },
  {
   "cell_type": "markdown",
   "metadata": {},
   "source": [
    "## Exercise 4. Build your own Bag Of Words implementation using tokenizer created before \n",
    "\n",
    "You need to implement following methods:\n",
    "\n",
    "- ``fit_transform`` - gets a list of strings and returns matrix with it's BoW representation\n",
    "- ``get_features_names`` - returns list of words corresponding to columns in BoW"
   ]
  },
  {
   "cell_type": "code",
   "metadata": {
    "ExecuteTime": {
     "end_time": "2025-05-08T19:10:04.233722Z",
     "start_time": "2025-05-08T19:10:03.866769Z"
    }
   },
   "source": [
    "import numpy as np\n",
    "import spacy\n",
    "\n",
    "class BagOfWords:\n",
    "    \"\"\"Basic BoW implementation.\"\"\"\n",
    "    \n",
    "    __nlp = spacy.load(\"en_core_web_sm\")\n",
    "    __bow_list = []\n",
    "\n",
    "    \n",
    "    def fit_transform(self, corpus: list):\n",
    "            \"\"\"Transform list of strings into BoW array.\"\"\"\n",
    "            tokenized = []\n",
    "\n",
    "            for doc in corpus:\n",
    "                tokens = [token.text.lower() for token in self.__nlp(doc) if token.is_alpha]\n",
    "                tokenized.append(tokens)\n",
    "\n",
    "            vocab = sorted(set(word for doc in tokenized for word in doc))\n",
    "            self.__bow_list = vocab\n",
    "\n",
    "            matrix = np.zeros((len(corpus), len(vocab)), dtype=int)\n",
    "\n",
    "            for i, doc in enumerate(tokenized):\n",
    "                for word in doc:\n",
    "                    j = vocab.index(word)\n",
    "                    matrix[i][j] += 1\n",
    "\n",
    "            return matrix\n",
    "\n",
    "    def get_feature_names(self) -> list:\n",
    "        return self.__bow_list\n",
    "\n",
    "corpus = [\n",
    "     'Bag Of Words is based on counting',\n",
    "     'words occurences throughout multiple documents.',\n",
    "     'This is the third document.',\n",
    "     'As you can see most of the words occur only once.',\n",
    "     'This gives us a pretty sparse matrix, see below. Really, see below',\n",
    "]    \n",
    "    \n",
    "vectorizer = BagOfWords()\n",
    "\n",
    "X = vectorizer.fit_transform(corpus)\n",
    "print(X)\n",
    "\n",
    "vectorizer.get_feature_names()\n",
    "len(vectorizer.get_feature_names())"
   ],
   "outputs": [
    {
     "name": "stdout",
     "output_type": "stream",
     "text": [
      "[[0 0 1 1 0 0 1 0 0 0 1 0 0 0 0 0 1 1 0 0 0 0 0 0 0 0 0 0 0 1 0]\n",
      " [0 0 0 0 0 0 0 0 1 0 0 0 0 1 0 1 0 0 0 0 0 0 0 0 0 0 0 1 0 1 0]\n",
      " [0 0 0 0 0 0 0 1 0 0 1 0 0 0 0 0 0 0 0 0 0 0 0 0 1 1 1 0 0 0 0]\n",
      " [0 1 0 0 0 1 0 0 0 0 0 0 1 0 1 0 1 0 1 1 0 0 1 0 1 0 0 0 0 1 1]\n",
      " [1 0 0 0 2 0 0 0 0 1 0 1 0 0 0 0 0 0 0 0 1 1 2 1 0 0 1 0 1 0 0]]\n"
     ]
    },
    {
     "data": {
      "text/plain": [
       "31"
      ]
     },
     "execution_count": 74,
     "metadata": {},
     "output_type": "execute_result"
    }
   ],
   "execution_count": 74
  },
  {
   "cell_type": "markdown",
   "metadata": {},
   "source": [
    "## Exercise 5. Build a 5-gram model and clean up the results.\n",
    "\n",
    "There are three tasks to do:\n",
    "1. Use 5-gram model instead of 3.\n",
    "2. Change to capital letter each first letter of a sentence.\n",
    "3. Remove the whitespace between the last word in a sentence and . ! or ?.\n",
    "\n",
    "Hint: for 2. and 3. implement a function called ``clean_generated()`` that takes the generated text and fix both issues at once. It could be easier to fix the text after it's generated rather then doing some changes in the while loop."
   ]
  },
  {
   "cell_type": "code",
   "metadata": {
    "ExecuteTime": {
     "end_time": "2025-05-08T19:10:04.309461Z",
     "start_time": "2025-05-08T19:10:04.291921Z"
    }
   },
   "source": [
    "from nltk.book import *\n",
    "import random\n",
    "wall_street = text7.tokens\n",
    "\n",
    "import re\n",
    "\n",
    "tokens = wall_street\n",
    "\n",
    "def cleanup():\n",
    "    compiled_pattern = re.compile(\"^[a-zA-Z0-9.!?]\")\n",
    "    clean = list(filter(compiled_pattern.match,tokens))\n",
    "    return clean\n",
    "tokens = cleanup()\n",
    "\n",
    "def build_ngrams():\n",
    "    ngrams = []\n",
    "    for i in range(len(tokens)-N+1):\n",
    "        ngrams.append(tokens[i:i+N])\n",
    "    return ngrams\n",
    "\n",
    "def ngram_freqs(ngrams):\n",
    "    counts = {}\n",
    "\n",
    "    for ngram in ngrams:\n",
    "        token_seq  = SEP.join(ngram[:-1])\n",
    "        last_token = ngram[-1]\n",
    "\n",
    "        if token_seq not in counts:\n",
    "            counts[token_seq] = {}\n",
    "\n",
    "        if last_token not in counts[token_seq]:\n",
    "            counts[token_seq][last_token] = 0\n",
    "\n",
    "        counts[token_seq][last_token] += 1;\n",
    "\n",
    "    return counts\n",
    "\n",
    "def next_word(text, N, counts):\n",
    "\n",
    "    token_seq = SEP.join(text.split()[-(N-1):]);\n",
    "    choices = counts[token_seq].items();\n",
    "\n",
    "    total = sum(weight for choice, weight in choices)\n",
    "    r = random.uniform(0, total)\n",
    "    upto = 0\n",
    "    for choice, weight in choices:\n",
    "        upto += weight;\n",
    "        if upto > r: return choice\n",
    "    assert False # should not reach here"
   ],
   "outputs": [],
   "execution_count": 75
  },
  {
   "cell_type": "code",
   "metadata": {
    "ExecuteTime": {
     "end_time": "2025-05-08T19:13:13.275759Z",
     "start_time": "2025-05-08T19:13:13.058068Z"
    }
   },
   "source": [
    "def clean_generated(text):\n",
    "    text = re.sub(r'\\s+([.!?])', r'\\1', text)\n",
    "    sentences = re.split('([.!?])', text)\n",
    "    cleaned = ''\n",
    "    for i in range(0, len(sentences)-1, 2):\n",
    "        sentence = sentences[i].strip().capitalize()\n",
    "        punct = sentences[i+1]\n",
    "        cleaned += sentence + punct + ' '\n",
    "    return cleaned.strip()\n",
    "\n",
    "N=5\n",
    "\n",
    "SEP=\" \"\n",
    "\n",
    "sentence_count=5\n",
    "\n",
    "ngrams = build_ngrams()\n",
    "start_seq=None\n",
    "\n",
    "counts = ngram_freqs(ngrams)\n",
    "\n",
    "if start_seq is None: start_seq = random.choice(list(counts.keys()))\n",
    "generated = start_seq.lower();\n",
    "\n",
    "sentences = 0\n",
    "while sentences < sentence_count:\n",
    "    last_seq = SEP.join(generated.split()[-(N-1):])\n",
    "    if last_seq not in counts:\n",
    "        last_seq = random.choice(list(counts.keys()))\n",
    "        generated += SEP + last_seq\n",
    "    else:\n",
    "        generated += SEP + next_word(generated, N, counts)\n",
    "    sentences += 1 if generated.endswith(('.','!', '?')) else 0\n",
    "\n",
    "# put your code here:\n",
    "print(generated)\n",
    "generated = clean_generated(generated)\n",
    "print(generated)"
   ],
   "outputs": [
    {
     "name": "stdout",
     "output_type": "stream",
     "text": [
      "deterring u.s. high-technology firms appears in today issue of the journal Nature . The finding marks a significant step in research on bulk superconductors which are aimed at use in wires for motors magnets generators and other applications . Scientists had obtained even higher current-carrying capacity in thin films of the new superconductors but have had problems increasing the amount of current that bulk crystals could carry . Superconductors conduct electricity without resistance when cooled . A family of ceramic superconductors discovered during the past three years despite steady sales growth .\n",
      "Deterring u. S. High-technology firms appears in today issue of the journal nature. The finding marks a significant step in research on bulk superconductors which are aimed at use in wires for motors magnets generators and other applications. Scientists had obtained even higher current-carrying capacity in thin films of the new superconductors but have had problems increasing the amount of current that bulk crystals could carry. Superconductors conduct electricity without resistance when cooled. A family of ceramic superconductors discovered during the past three years despite steady sales growth.\n"
     ]
    }
   ],
   "execution_count": 91
  }
 ],
 "metadata": {
  "kernelspec": {
   "display_name": "Python 3",
   "language": "python",
   "name": "python3"
  },
  "language_info": {
   "codemirror_mode": {
    "name": "ipython",
    "version": 3
   },
   "file_extension": ".py",
   "mimetype": "text/x-python",
   "name": "python",
   "nbconvert_exporter": "python",
   "pygments_lexer": "ipython3",
   "version": "3.6.9"
  }
 },
 "nbformat": 4,
 "nbformat_minor": 4
}
