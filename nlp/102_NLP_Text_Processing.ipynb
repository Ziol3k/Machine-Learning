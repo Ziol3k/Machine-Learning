{
 "cells": [
  {
   "cell_type": "markdown",
   "metadata": {},
   "source": [
    "# NLP Text Processing methods\n",
    "\n",
    "\n"
   ]
  },
  {
   "cell_type": "markdown",
   "metadata": {},
   "source": [
    "### NLTK\n",
    "\n",
    "We can use some available data sets for educational purpose. One of such source are NLTK book corporas. To download it we need to do the following:"
   ]
  },
  {
   "cell_type": "code",
   "metadata": {},
   "source": [
    "import nltk\n",
    "nltk.download('book')"
   ],
   "outputs": [],
   "execution_count": null
  },
  {
   "cell_type": "markdown",
   "metadata": {},
   "source": [
    "To check what kind of books are available we need to import these and print the list as following:"
   ]
  },
  {
   "cell_type": "code",
   "metadata": {},
   "source": [
    "from nltk.book import *\n",
    "texts()"
   ],
   "outputs": [],
   "execution_count": null
  },
  {
   "cell_type": "markdown",
   "metadata": {},
   "source": [
    "NLTK Text object does have some useful methods that you can find here: [NLTK Text Docs](http://www.nltk.org/api/nltk.html#nltk.text.Text). Some are used below."
   ]
  },
  {
   "cell_type": "markdown",
   "metadata": {},
   "source": [
    "#### Word and sentences similarity\n",
    "\n",
    "Word does have different meanings. This makes the comparison and analysis a bit more complex."
   ]
  },
  {
   "cell_type": "code",
   "metadata": {},
   "source": [
    "text6.concordance(\"King\")\n",
    "\n",
    "text6.count(\"King\")"
   ],
   "outputs": [],
   "execution_count": null
  },
  {
   "cell_type": "markdown",
   "metadata": {},
   "source": [
    "We can also build a Corpus from a plain text. See the example below."
   ]
  },
  {
   "cell_type": "code",
   "metadata": {},
   "source": [
    "from nltk.corpus import PlaintextCorpusReader\n",
    "from nltk.tokenize.regexp import WordPunctTokenizer\n",
    "from nltk.data import LazyLoader\n",
    "\n",
    "trump = PlaintextCorpusReader('../datasets/','trump.txt',word_tokenizer=WordPunctTokenizer(),\n",
    "             sent_tokenizer=LazyLoader(\n",
    "                 'tokenizers/punkt/english.pickle'),\n",
    "             encoding='utf8')\n",
    "print(trump)\n",
    "trump.words()"
   ],
   "outputs": [],
   "execution_count": null
  },
  {
   "cell_type": "markdown",
   "metadata": {},
   "source": [
    "Corpuses contain large amount of texts, say multiple books, couple hundreds of articles from various magazines etc. NLTK has chosen a few books from over 25,000 pieces available in the whole dataset. We are going to pick Bible and Shakespeare's Macbeth in order to compare a few statistics between them. Let's take a look at other corporas and check the gutenberg and check the word distribution:"
   ]
  },
  {
   "cell_type": "code",
   "metadata": {},
   "source": [
    "import matplotlib.pyplot as plt\n",
    "import seaborn as sns\n",
    "\n",
    "sns.set_style('whitegrid') # general display style of seaborn\n",
    "# how to display plot in notebook, jupyter's magic command\n",
    "%matplotlib inline \n",
    "\n",
    "# Download necessary texts\n",
    "nltk.download('gutenberg')\n",
    "nltk.download('stopwords')\n",
    "\n",
    "print(\"Books available in gutenberg dataset:\")\n",
    "nltk.corpus.gutenberg.fileids()"
   ],
   "outputs": [],
   "execution_count": null
  },
  {
   "cell_type": "code",
   "metadata": {},
   "source": [
    "nltk.corpus.stopwords.words(\"english\")"
   ],
   "outputs": [],
   "execution_count": null
  },
  {
   "cell_type": "code",
   "metadata": {},
   "source": [
    "%matplotlib inline\n",
    "\n",
    "def lexical_richness(text: str) -> float:\n",
    "  # Unique words in text divided by the total amount of words\n",
    "  words = nltk.Text(nltk.corpus.gutenberg.words(text))\n",
    "  return len(set(words))/len(words)\n",
    "\n",
    "macbeth = \"shakespeare-macbeth.txt\"\n",
    "bible = \"bible-kjv.txt\"\n",
    "\n",
    "print(\"Macbeth richness: {}\".format(lexical_richness(macbeth)))\n",
    "print(\"Bible richness: {}\".format(lexical_richness(bible)))\n",
    "\n",
    "# Removing stopwords like: , . and or\n",
    "bible_words = [\n",
    "    word\n",
    "    for word in nltk.corpus.gutenberg.words(bible)\n",
    "    if word not in nltk.corpus.stopwords.words(\"english\") and word.isalpha()\n",
    "]\n",
    "\n",
    "words_distribution = nltk.probability.FreqDist(bible_words)\n",
    "print(\"Words occuring most often in Bible:\") \n",
    "display(words_distribution.plot(15))"
   ],
   "outputs": [],
   "execution_count": null
  },
  {
   "cell_type": "markdown",
   "metadata": {},
   "source": [
    "### Regular expression\n",
    "\n",
    "The first solution that comes to our mind when it comes to text processing are regular expression. It is usually the best solution in software development. It is also used in many tools that we have mentioned before. Let's take an example to do a short recap how to use regular expressions in Python."
   ]
  },
  {
   "cell_type": "code",
   "metadata": {},
   "source": [
    "example = \"JU is a great company with many great developers.\"\n",
    "\n",
    "import re\n",
    "\n",
    "pattern = \"\\\\s+\"\n",
    "words = re.split(pattern, example)\n",
    "print(words)"
   ],
   "outputs": [],
   "execution_count": null
  },
  {
   "cell_type": "markdown",
   "metadata": {},
   "source": [
    "Python does have some methods for Strings that can do the same as above, but with less code."
   ]
  },
  {
   "cell_type": "code",
   "metadata": {},
   "source": [
    "words = example.split(' ')\n",
    "print(words)\n",
    "\n",
    "text = \"Well, what can I say about regexes? \\\n",
    "They are quite annoying to be honest, but once you get a grasp you're gonna be fine. \\\n",
    "Yeah, I could use some basic boring text, here you go if that's what you miss: \\\n",
    "Ala ma kota, kot ma Alę. m?ke a m1sta.e and see what happens... \\\n",
    "This sentence: 'Mr. & Mrs. Smith, been looking for easter egg here, failed.\"\n",
    "text.split(' ')"
   ],
   "outputs": [],
   "execution_count": null
  },
  {
   "cell_type": "markdown",
   "metadata": {},
   "source": [
    "That was too naive, let's make something more intelligent:"
   ]
  },
  {
   "cell_type": "code",
   "metadata": {},
   "source": [
    "print(\"Using regex:\")\n",
    "display(re.split('(?<=[.!?]) +',text))"
   ],
   "outputs": [],
   "execution_count": null
  },
  {
   "cell_type": "markdown",
   "metadata": {},
   "source": [
    "Our regex only splits the text if either of . ! ? is followed by one or more whitespace signs. This approach is quite powerful, yet limited (as could be seen), keep in mind it has it's uses but is far from perfect (later we will see more sophisticated approaches).\n",
    "\n",
    "All in all, when faced with a choice: do something using traditional methods or using machine learning, ALWAYS pick the first one."
   ]
  },
  {
   "cell_type": "code",
   "metadata": {},
   "source": [
    "# Examples of some other regex functions\n",
    "\n",
    "text = re.sub(r\"Mr. & Mrs. Smith\", \"Now works like a charm\", text) #substitute string\n",
    "found_text = re.findall(\", been .*,\", text) # find all occurences of string\n",
    "display(found_text)\n",
    "\n",
    "# findall returns list, we need to access it's element\n",
    "re.sub(found_text[0], \" but life\", text)"
   ],
   "outputs": [],
   "execution_count": null
  },
  {
   "cell_type": "markdown",
   "metadata": {},
   "source": [
    "### Tokenization\n",
    "\n",
    "NLTK is a more advanced tool than just regular expressions. We can easily tokenize sentences. Tokenization is a process of getting words from sentences. **Tokenizers** are used to divide a string into it's logical subsets. Above, we have used the sentence tokenizer. Tokenization on the other hand is a common name for dividing a text into separate words and can be done in NLTK using word_tokenizer:"
   ]
  },
  {
   "cell_type": "code",
   "metadata": {},
   "source": [
    "tokens = nltk.word_tokenize(example)\n",
    "print(\"Tokens: \" + str(tokens))"
   ],
   "outputs": [],
   "execution_count": null
  },
  {
   "cell_type": "markdown",
   "metadata": {},
   "source": [
    "After a little fun we can use nltk to separate text into sentences in 'smarter' fashion:"
   ]
  },
  {
   "cell_type": "code",
   "metadata": {},
   "source": [
    "from nltk.tokenize import sent_tokenize\n",
    "\n",
    "nltk.download('punkt')\n",
    "\n",
    "sent_tokenize(text)"
   ],
   "outputs": [],
   "execution_count": null
  },
  {
   "cell_type": "markdown",
   "metadata": {},
   "source": [
    "__Tokenizers__ are used to divide a string into it's logical subsets. Above, we\n",
    "have used\n",
    "the sentence tokenizer. __Tokenization__ on the other hand is a common\n",
    "name for dividing\n",
    "a text into separate words and can be done in NLTK using\n",
    "__word_tokenizer__:"
   ]
  },
  {
   "cell_type": "code",
   "metadata": {},
   "source": [
    "from nltk.tokenize import word_tokenize, TweetTokenizer\n",
    "from nltk.tokenize import TweetTokenizer # Yes, this tokenizer was based on Tweets\n",
    "\n",
    "text = \"This is a cooool #dummysmiley: :-) :-P <3 and some arrows < > -> <--\"\n",
    "print(\"Normal tokenizer:\")\n",
    "print(word_tokenize(text))\n",
    "\n",
    "print(\"This tokenizer is better suited for emoji handling\")\n",
    "twitter_tokenizer = TweetTokenizer()\n",
    "twitter_tokenizer.tokenize(text)"
   ],
   "outputs": [],
   "execution_count": null
  },
  {
   "cell_type": "markdown",
   "metadata": {},
   "source": [
    "As you can see there are other tokenizers available and each is focused on\n",
    "different\n",
    "'kind' of tokenization.\n",
    "\n",
    "They are usually implemented as a set of\n",
    "complicated rules trailed down to certain language\n",
    "(e.g. will be different for\n",
    "polish and english) and __ARE NOT__ a subset of machine\n",
    "learning (in\n",
    "this part of course at least).\n",
    "\n",
    "Here are some other NLTK's tokenizers you could\n",
    "use:\n",
    "\n",
    "- __PunktTokenizer__: been used above for sentence tokenization. This one\n",
    "actually uses unsupervised algorithm to infer sentence boundaries.\n",
    "- __NISTTokenizer__: tokenizer for non-european text (say in Chinese).\n",
    "- __SExprTokenizer__: find parenthesized expressions in strings, see below:"
   ]
  },
  {
   "cell_type": "code",
   "metadata": {},
   "source": [
    "from nltk.tokenize import SExprTokenizer\n",
    "\n",
    "SExprTokenizer().tokenize('(a b (c d)) e f (g)')"
   ],
   "outputs": [],
   "execution_count": null
  },
  {
   "cell_type": "markdown",
   "metadata": {},
   "source": [
    "### Tagging\n",
    "\n",
    "What is great with NLTK is that we can tag each word. A tag give us a meaning of a word. We can think about it as a type of word."
   ]
  },
  {
   "cell_type": "code",
   "metadata": {},
   "source": [
    "tags = nltk.pos_tag(tokens)\n",
    "print(\"Tagged: \" + str(tags))"
   ],
   "outputs": [],
   "execution_count": null
  },
  {
   "cell_type": "markdown",
   "metadata": {},
   "source": [
    "Some tags are shown in the table below.\n",
    "\n",
    "| tag  | short | description   |\n",
    "|------|-------|---------------|\n",
    "| DT   | determiner | all an another any both del each either every half la many much nary neither no some such that the them these this those |\n",
    "| IN   | preposition or conjunction, subordinating | astride among uppon whether out inside pro despite on by throughout below within for towards near behind atop around if like until below next into if beside ... |\n",
    "| JJ   | adjective or numeral, ordinal | third ill-mannered pre-war regrettable oiled calamitous first separable ectoplasmic battery-powered participatory fourth still-to-be-named multilingual multi-disciplinary ... |\n",
    "| NN   | noun, common, singular or mass | common-carrier cabbage knuckle-duster Casino afghan shed thermostat investment slide humour falloff slick wind hyena override subhumanity machinist ... |\n",
    "| NNP  | noun, proper, singular | Motown Venneboerger Czestochowa Ranzer Conchita Trumplane Christos Oceanside Escobar Kreisler Sawyer Cougar Yvette Ervin ODI Darryl CTCA Shannon A.K.C. Meltex Liverpool ... |\n",
    "| NNS  | noun, common, plural | undergraduates scotches bric-a-brac products bodyguards facets coasts divestitures storehouses designs clubs fragrances averages subjectivists apprehensions muses factory-jobs ... |\n",
    "| VBZ  | verb, present tense, 3rd person singular | bases reconstructs marks mixes displeases seals carps weaves snatches slumps stretches authorizes smolders pictures emerges stockpiles seduces fizzes uses bolsters slaps speaks pleads ... |\n",
    "\n",
    "To get the full list of tags, use the following code:"
   ]
  },
  {
   "cell_type": "code",
   "metadata": {},
   "source": [
    "nltk.download('tagsets')\n",
    "nltk.help.upenn_tagset()"
   ],
   "outputs": [],
   "execution_count": null
  },
  {
   "cell_type": "markdown",
   "metadata": {},
   "source": [
    "We can find the token in NLTK's corporas too:"
   ]
  },
  {
   "cell_type": "code",
   "metadata": {},
   "source": [
    "text6.tokens"
   ],
   "outputs": [],
   "execution_count": null
  },
  {
   "cell_type": "markdown",
   "metadata": {},
   "source": [
    "Another feature of NLTK are the stopwords that are used in each language that NLTK supports:"
   ]
  },
  {
   "cell_type": "code",
   "metadata": {},
   "source": [
    "english_stopwords = set(nltk.corpus.stopwords.words('english'))\n",
    "print(english_stopwords)"
   ],
   "outputs": [],
   "execution_count": null
  },
  {
   "cell_type": "markdown",
   "metadata": {},
   "source": [
    "__POS-tagging__ is another method of describing our text. For each tokenized word we can obtain it's __Part Of Speech__. Those informations are frequently used throughout more advanced machine learning methods.\n",
    "\n",
    "Up until now everything was easy, fortunately this one is no exception."
   ]
  },
  {
   "cell_type": "code",
   "metadata": {},
   "source": [
    "# we have already imported nltk.tokenize.word_tokenizer\n",
    "\n",
    "nltk.download('averaged_perceptron_tagger')\n",
    "\n",
    "words = word_tokenize(\n",
    "    \"Another text. You know, this is the hardest part, coming up with all those texts. \"\n",
    "    \"Lorem Ipsum or some random stuff is pretty boring IMO. \"\n",
    "    \"You may feel like somebody didn't care (or at least I do).\"\n",
    "    \"Or maybe it's just an act? I will not address this question.\"\n",
    ")\n",
    "\n",
    "nltk.pos_tag(words)"
   ],
   "outputs": [],
   "execution_count": null
  },
  {
   "cell_type": "markdown",
   "metadata": {},
   "source": [
    "Look at `act` and `address` towards the end of output.\n",
    "\n",
    "POS can be used to dismabiguate word meaning, `act` can be both noun (NN) and verb (VB), same goes for address. \n",
    "\n",
    "This tokenizer is __based on simple one layer neural network__ hence it takes context into account (words before and after an act). \n",
    "\n",
    "Context (N words before and after certain word) is called __N-gram__ in Machine Learning and we will make use of it more later in this course.\n",
    "\n",
    "<ADD N-GRAM PHOTO>\n",
    "\n",
    "This is more sophisticated approach and __should be__ used when more abstract reasoning is needed (like word disambiguation).\n",
    "\n",
    "With __NLTK__ we can create and train our own taggers, or choose a pre-made one and train is as seen below (this one takes the next word as it's context)."
   ]
  },
  {
   "cell_type": "code",
   "metadata": {},
   "source": [
    "import nltk\n",
    "from nltk.corpus import brown \n",
    "nltk.download(\"brown\")\n",
    " \n",
    "brown_tagged_sents = brown.tagged_sents(categories=\"news\")\n",
    "brown_sents = brown.sents(categories=\"news\") \n",
    "unigram_tagger = nltk.BigramTagger(brown_tagged_sents)\n",
    "unigram_tagger.tag(brown_sents[2007])"
   ],
   "outputs": [],
   "execution_count": null
  },
  {
   "cell_type": "markdown",
   "metadata": {},
   "source": [
    "### Unicode\n",
    "\n",
    "Each alphabet is different and some languages use letter that are not used in any other language. Unicode allows use to standardize the text. Let's see an of some german and portugese text below."
   ]
  },
  {
   "cell_type": "code",
   "metadata": {},
   "source": [
    "sample = \"\"\"Minderjährige Schülerinnen. O português é uma língua romântica\"\"\"\n",
    "\n",
    "type(sample)"
   ],
   "outputs": [],
   "execution_count": null
  },
  {
   "cell_type": "markdown",
   "metadata": {},
   "source": [
    "If we convert it to ASCII it will look as following:"
   ]
  },
  {
   "cell_type": "code",
   "metadata": {},
   "source": [
    "ascii(sample)"
   ],
   "outputs": [],
   "execution_count": null
  },
  {
   "cell_type": "markdown",
   "metadata": {},
   "source": [
    "It is not what we expected. It's hard to work with such a text. We can go a step further and encode the string to be a unicode encoded one:"
   ]
  },
  {
   "cell_type": "code",
   "metadata": {},
   "source": [
    "sample.encode('utf8')"
   ],
   "outputs": [],
   "execution_count": null
  },
  {
   "cell_type": "markdown",
   "metadata": {},
   "source": [
    "We could also ignore the ASCII characters that we cannot do anything with in the further processing:"
   ]
  },
  {
   "cell_type": "code",
   "metadata": {},
   "source": [
    "sample.encode('ascii', 'ignore')"
   ],
   "outputs": [],
   "execution_count": null
  },
  {
   "cell_type": "markdown",
   "metadata": {},
   "source": [
    "Now we have all letter that make sense, but we have text that does not make any sense anymore. To solve it, we need to normalize it and only after the normalization remove the ascii signs."
   ]
  },
  {
   "cell_type": "code",
   "metadata": {},
   "source": [
    "import unicodedata\n",
    "\n",
    "unicodedata.normalize('NFKD', sample).encode('ascii','ignore')"
   ],
   "outputs": [],
   "execution_count": null
  },
  {
   "cell_type": "markdown",
   "metadata": {},
   "source": [
    "More about [Unicode normalization forms](http://unicode.org/reports/tr15/)"
   ]
  },
  {
   "cell_type": "markdown",
   "metadata": {},
   "source": [
    "### Lemmatization\n",
    "\n",
    "Lemmatization is a process of getting one word for many forms of the word. \n",
    "\n",
    "Let's see an example:"
   ]
  },
  {
   "cell_type": "code",
   "metadata": {},
   "source": [
    "from nltk.stem import WordNetLemmatizer\n",
    "\n",
    "wordnet_lemmatizer = WordNetLemmatizer()\n",
    "\n",
    "print(wordnet_lemmatizer.lemmatize('do',pos='v'))\n",
    "print(wordnet_lemmatizer.lemmatize('does',pos='v'))\n",
    "print(wordnet_lemmatizer.lemmatize('doing',pos='v'))"
   ],
   "outputs": [],
   "execution_count": null
  },
  {
   "cell_type": "markdown",
   "metadata": {},
   "source": [
    "We can set the main part of speech as one of the following:\n",
    "\n",
    "ADJ, ADJ_SAT, ADV, NOUN, VERB = 'a', 's', 'r', 'n', 'v'"
   ]
  },
  {
   "cell_type": "code",
   "metadata": {},
   "source": [
    "wordnet_lemmatizer.lemmatize('are',pos='v')"
   ],
   "outputs": [],
   "execution_count": null
  },
  {
   "cell_type": "markdown",
   "metadata": {},
   "source": [
    "### Stemming\n",
    "\n",
    "Stemming is similar to lemmatization, but the main difference is that is just reduce the word to it root. It gives in many cases different results than lemmatization as the second solution is based on part of speech."
   ]
  },
  {
   "cell_type": "code",
   "metadata": {},
   "source": [
    "from nltk import PorterStemmer, LancasterStemmer, word_tokenize\n",
    "from nltk.stem.snowball import SnowballStemmer\n",
    "\n",
    "sample = \"This is a new training about machine learning usage for chatbots\"\n",
    "\n",
    "tokens = word_tokenize(sample)\n",
    "\n",
    "porter = PorterStemmer()\n",
    "p_stem = [porter.stem(t) for t in tokens]\n",
    "print(p_stem)\n",
    "\n",
    "lancaster = LancasterStemmer()\n",
    "l_stem = [lancaster.stem(t) for t in tokens]\n",
    "print(l_stem)\n",
    "\n",
    "snowball = SnowballStemmer('english')\n",
    "s_stem = [snowball.stem(t) for t in tokens]\n",
    "print(s_stem)"
   ],
   "outputs": [],
   "execution_count": null
  },
  {
   "cell_type": "markdown",
   "metadata": {},
   "source": [
    "As per usual there are other stemmers and lemmatizers available in NLTK. \n",
    "Some\n",
    "of them may be faster (PorterStemmer), but Snowball is considered de-facto\n",
    "standard.\n",
    "\n",
    "A few traits of each should be noticed:\n",
    "- Stemming is faster (it\n",
    "doesn't have to consult dictionary and complicated\n",
    "morphological rules).\n",
    "-\n",
    "Stemming may not produce a dictionary word, see `studi` above.\n",
    "- Lemmatization\n",
    "produces smaller set of words. It is useful as we do not have to keep\n",
    "track of\n",
    "all the different form of word (running, runner, runs etc.). More memory\n",
    "efficient.\n",
    "- Lemmatization is not as crude, when it does not find the lemma it\n",
    "returns the original\n",
    "form. It __may__ produce more words this way, depends on\n",
    "the kind of text we are\n",
    "processing."
   ]
  },
  {
   "cell_type": "markdown",
   "metadata": {},
   "source": [
    "### Sentence extraction\n",
    "\n",
    "In this section we show some features of SpaCy. One of the most commonly used is the sentence extraction. An example of Trump speech divided into sentences can be found below."
   ]
  },
  {
   "cell_type": "code",
   "metadata": {},
   "source": [
    "import spacy\n",
    "\n",
    "file = open(\"../datasets/trump.txt\", \"r\",encoding='utf-8') \n",
    "trump = file.read() \n",
    "\n",
    "nlp = spacy.load(\"en_core_web_sm\")\n",
    "doc = nlp(trump)\n",
    "\n",
    "for span in doc.sents:\n",
    "    print(\"> \", span)"
   ],
   "outputs": [],
   "execution_count": null
  },
  {
   "cell_type": "markdown",
   "metadata": {},
   "source": [
    "Each sentence can next be tokenized and we can get a tag and pos of it."
   ]
  },
  {
   "cell_type": "code",
   "metadata": {},
   "source": [
    "for span in doc.sents:\n",
    "    for i in range(span.start, span.end):\n",
    "        token = doc[i]\n",
    "        print(i, token.text, token.tag_, token.pos_)"
   ],
   "outputs": [],
   "execution_count": null
  },
  {
   "cell_type": "markdown",
   "metadata": {},
   "source": [
    "### Noun chunks\n",
    "\n",
    "Chunking is a process of getting just specific part of speeches. The most popular is the noun chunking. It allow us to get the general meaning of what is the text about."
   ]
  },
  {
   "cell_type": "code",
   "metadata": {},
   "source": [
    "for np in doc.noun_chunks:\n",
    "    print(np)"
   ],
   "outputs": [],
   "execution_count": null
  },
  {
   "cell_type": "markdown",
   "metadata": {},
   "source": [
    "### Named entity recognition\n",
    "\n",
    "The last feature that we show here is the named entitiy resolution. It returns a NER of each word."
   ]
  },
  {
   "cell_type": "code",
   "metadata": {},
   "source": [
    "for entity in doc.ents:\n",
    "    print(entity.label_, entity.text)"
   ],
   "outputs": [],
   "execution_count": null
  },
  {
   "cell_type": "markdown",
   "metadata": {},
   "source": [
    "### Bag of Words\n",
    "\n",
    "Many machine learning methods cannot use strings as features, we have to encode it using numbers.\n",
    "\n",
    "We can easily do this using __Bag Of Words (BOW)__ technique and marvelous __sklearn__ library:"
   ]
  },
  {
   "cell_type": "code",
   "metadata": {},
   "source": [
    "from sklearn.feature_extraction.text import CountVectorizer\n",
    "\n",
    "vectorizer = CountVectorizer()\n",
    "\n",
    "corpus = [\n",
    "     'Bag Of Words is based on counting',\n",
    "     'words occurences throughout multiple documents.',\n",
    "     'This is the third document.',\n",
    "     'As you can see most of the words occur only once.',\n",
    "     'This gives us a pretty sparse matrix, see below. Really, see below',\n",
    "]\n",
    "\n",
    "X = vectorizer.fit_transform(corpus)\n",
    "print(X.toarray())"
   ],
   "outputs": [],
   "execution_count": null
  },
  {
   "cell_type": "markdown",
   "metadata": {},
   "source": [
    "Each document is represented by the row. Values ranging from 0 to N represent whether and how many times the word occured in the document. You can see what word corresponds to which column by issuing get_feature_names() on vectorizer object."
   ]
  },
  {
   "cell_type": "code",
   "metadata": {},
   "source": [
    "vectorizer.get_feature_names()"
   ],
   "outputs": [],
   "execution_count": null
  },
  {
   "cell_type": "markdown",
   "metadata": {},
   "source": [
    "This approach allows us to easily describe the whole corpora, but it lacks informations crucial for solving some tasks.\n",
    "\n",
    "### TF-IDF\n",
    "\n",
    "Look at word is. It is used in most documents many times, yet it does not tell us anything about them. Let's think about sentiment analysis: if words like great or awesome occur frequently in comparison with another documents it may suggest positive attitude.\n",
    "\n",
    "TF-IDF is one way to encode this information and I'll walk you through it step by step.\n",
    "\n",
    "First part of TF-IDF is, yes, you guessed it, TF, which means Term Frequency. It can be calculated as:\n",
    "\n",
    "\\begin{equation}\n",
    "tf_{ij}=\\frac{n_{ij}}{\\sum n_{ij}},\n",
    "\\end{equation}\n",
    "where $n_{ij}$ is the number of occurence of word $i$ in document $j$."
   ]
  },
  {
   "cell_type": "code",
   "metadata": {},
   "source": [
    "import numpy as np\n",
    "\n",
    "corpus = [\n",
    "'Tom has cat',\n",
    "'Tom has fish',\n",
    "'Tom is polish',\n",
    "]\n",
    "\n",
    "def tf(corpus):\n",
    "    vec = CountVectorizer()\n",
    "    bow_representation = vec.fit_transform(corpus)\n",
    "    words_per_corpus = bow_representation.sum(axis=1)\n",
    "    return np.divide(np.array(bow_representation.toarray()),np.array(words_per_corpus).reshape((5,))[:,None])\n"
   ],
   "outputs": [],
   "execution_count": null
  },
  {
   "cell_type": "markdown",
   "metadata": {},
   "source": [
    "For each document we count how many times it occurred (BoW implementaion) and divide by the count of all words in this document.\n",
    "\n",
    "Next part is IDF, which stands for Inverse Document Frequency:\n",
    "\n",
    "\\begin{equation}\n",
    "idf=\\log(\\frac{N}{df_{t}}),\n",
    "\\end{equation}\n",
    "where $N$ is the total number of documents and $df_{t}$ is number of documents containing $t$."
   ]
  },
  {
   "cell_type": "code",
   "metadata": {
    "scrolled": true
   },
   "source": [
    "def idf(corpus):\n",
    "    document_count = len(corpus)\n",
    "    bow_representation = CountVectorizer().fit_transform(corpus)\n",
    "    return np.log(document_count / np.count_nonzero(bow_representation.toarray(), axis=0))"
   ],
   "outputs": [],
   "execution_count": null
  },
  {
   "cell_type": "markdown",
   "metadata": {},
   "source": [
    "First we calculate number of documents in corpus (number of rows in our case). Next, for each word, we calculate documents containing said word at least once.\n",
    "\n",
    "Taking logarithm allows us to dampen the effect of idf. For example, the difference between term occuring in 40 out of 50 documents and 45 out of 50 documents will be smaller than difference between 1/50 and 5/50. This puts a bigger emphasis on rarely occuring terms as they are more informative.\n",
    "\n",
    "Finally, for the whole thing to work, we simply multiply both:"
   ]
  },
  {
   "cell_type": "code",
   "metadata": {},
   "source": [
    "def tf_idf(corpus):\n",
    "    return tf(corpus) * idf(corpus)"
   ],
   "outputs": [],
   "execution_count": null
  },
  {
   "cell_type": "markdown",
   "metadata": {},
   "source": [
    "Let's calculate it:"
   ]
  },
  {
   "cell_type": "code",
   "metadata": {},
   "source": [
    "corpus = [\n",
    "     'Bag Of Words is based on counting',\n",
    "     'words occurences throughout multiple documents.',\n",
    "     'This is the third document.',\n",
    "     'As you can see most of the words occur only once.',\n",
    "     'This gives us a pretty sparse matrix, see below. Really, see below',\n",
    "]\n",
    "\n",
    "tfidf_result = tf_idf(corpus)\n",
    "\n",
    "print(tfidf_result.shape)"
   ],
   "outputs": [],
   "execution_count": null
  },
  {
   "cell_type": "markdown",
   "metadata": {},
   "source": [
    "In Jupyter it's easier to display results with pandas:"
   ]
  },
  {
   "cell_type": "code",
   "metadata": {},
   "source": [
    "import pandas as pd\n",
    "pd.DataFrame(tfidf_result).head()"
   ],
   "outputs": [],
   "execution_count": null
  },
  {
   "cell_type": "markdown",
   "metadata": {},
   "source": [
    "There are many versions of tf-idf, some use different smoothing, use additional logarithm for tf part and so on. Each transforms corpora a little differently, and appropriate should be used based on effect we would like to obtain.\n",
    "\n",
    "### Summary\n",
    "This constitutes the first NLP-related part of our course and we have gathered some useful and interesting informations \n",
    "\n",
    "### References\n",
    "\n",
    "[1] Natural Language Processing with Python, Edward Loper, Ewan Klein, Steven Bird. O'Reilly 2009\n",
    "\n",
    "[2] Applied Text Analysis with Python, Tony Ojeda , Rebecca Bilbro , Benjamin Bengfort. O'Reilly 2018\n",
    "\n",
    "[3] Feature Engineering for Machine Learning, Amanda Casari , Alice Zheng. O'Reilly 2018"
   ]
  }
 ],
 "metadata": {
  "kernelspec": {
   "display_name": "Python 3",
   "language": "python",
   "name": "python3"
  },
  "language_info": {
   "codemirror_mode": {
    "name": "ipython",
    "version": 3
   },
   "file_extension": ".py",
   "mimetype": "text/x-python",
   "name": "python",
   "nbconvert_exporter": "python",
   "pygments_lexer": "ipython3",
   "version": "3.6.9"
  }
 },
 "nbformat": 4,
 "nbformat_minor": 4
}
