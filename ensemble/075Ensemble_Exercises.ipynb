{
 "cells": [
  {
   "cell_type": "markdown",
   "metadata": {},
   "source": [
    "# Ensemble methods. Exercises\n",
    "\n",
    "\n",
    "In this section we have only two exercise:\n",
    "\n",
    "1. Find the best three classifier in the stacking method using the classifiers from scikit-learn package.\n",
    "\n",
    "2. Build arcing arc-x4 method. "
   ]
  },
  {
   "cell_type": "code",
   "metadata": {
    "ExecuteTime": {
     "end_time": "2025-05-08T17:26:48.233775Z",
     "start_time": "2025-05-08T17:26:48.228495Z"
    }
   },
   "source": [
    "%store -r data_set\n",
    "%store -r labels\n",
    "%store -r test_data_set\n",
    "%store -r test_labels\n",
    "%store -r unique_labels"
   ],
   "outputs": [],
   "execution_count": 742
  },
  {
   "cell_type": "markdown",
   "metadata": {},
   "source": [
    "## Exercise 1: Find the best three classifier in the stacking method\n",
    "\n",
    "Please use the following classifiers:\n",
    "\n",
    "* Linear regression,\n",
    "* Nearest Neighbors,\n",
    "* Linear SVM,\n",
    "* Decision Tree,\n",
    "* Naive Bayes,\n",
    "* QDA."
   ]
  },
  {
   "cell_type": "code",
   "metadata": {
    "ExecuteTime": {
     "end_time": "2025-05-08T17:26:48.240430Z",
     "start_time": "2025-05-08T17:26:48.237280Z"
    }
   },
   "source": [
    "import numpy as np\n",
    "\n",
    "from itertools import combinations\n",
    "from sklearn.metrics import accuracy_score\n",
    "from sklearn.linear_model import LinearRegression\n",
    "from sklearn.linear_model import LogisticRegression\n",
    "from sklearn.neighbors import KNeighborsClassifier\n",
    "from sklearn.svm import SVC\n",
    "from sklearn.tree import DecisionTreeClassifier\n",
    "from sklearn.naive_bayes import GaussianNB\n",
    "from sklearn.discriminant_analysis import QuadraticDiscriminantAnalysis"
   ],
   "outputs": [],
   "execution_count": 743
  },
  {
   "cell_type": "code",
   "metadata": {
    "ExecuteTime": {
     "end_time": "2025-05-08T17:26:48.260212Z",
     "start_time": "2025-05-08T17:26:48.256289Z"
    }
   },
   "source": [
    "\n",
    "\n",
    "def build_classifiers():\n",
    "    candidate_classes = [\n",
    "        LinearRegression,\n",
    "        KNeighborsClassifier,\n",
    "        SVC,\n",
    "        DecisionTreeClassifier,\n",
    "        GaussianNB,\n",
    "        QuadraticDiscriminantAnalysis\n",
    "    ]\n",
    "\n",
    "    best_combo = None\n",
    "    best_acc   = -np.inf\n",
    "\n",
    "    for idx, trio in enumerate(combinations(candidate_classes, 3), 1):\n",
    "        clfs = [cls() for cls in trio]\n",
    "        for clf in clfs:\n",
    "            clf.fit(data_set, labels)\n",
    "\n",
    "        preds = build_stacked_classifier(clfs)\n",
    "        acc = accuracy_score(test_labels, preds)\n",
    "\n",
    "        names = [c.__name__ for c in trio]\n",
    "        print(f\" {idx:2d}) {names[0]:<25} + {names[1]:<25} + {names[2]:<25}         - acc = {acc:.4f}\")\n",
    "\n",
    "        if acc > best_acc:\n",
    "            best_acc   = acc\n",
    "            best_combo = clfs\n",
    "\n",
    "    best_names = [clf.__class__.__name__ for clf in best_combo]\n",
    "    print(\"\\nBest trio found:\")\n",
    "    print(f\"        - {best_names[0]}, {best_names[1]}, {best_names[2]}\")\n",
    "    print(f\"        - Stacked accuracy = {best_acc:.4f}\\n\")\n",
    "\n",
    "    return best_combo\n"
   ],
   "outputs": [],
   "execution_count": 744
  },
  {
   "cell_type": "code",
   "metadata": {
    "ExecuteTime": {
     "end_time": "2025-05-08T17:26:48.295149Z",
     "start_time": "2025-05-08T17:26:48.291471Z"
    }
   },
   "source": [
    "def build_stacked_classifier(classifiers):\n",
    "    output = []\n",
    "    for classifier in classifiers:\n",
    "        output.append(classifier.predict(data_set))\n",
    "    output = np.array(output).reshape((130,3))\n",
    "    \n",
    "    # stacked classifier part:\n",
    "    stacked_classifier = LogisticRegression()\n",
    "    stacked_classifier.fit(output.reshape((130,3)), labels.reshape((130,)))\n",
    "    test_set = []\n",
    "    for classifier in classifiers:\n",
    "        test_set.append(classifier.predict(test_data_set))\n",
    "    test_set = np.array(test_set).reshape((len(test_set[0]),3))\n",
    "    predicted = stacked_classifier.predict(test_set)\n",
    "    return predicted"
   ],
   "outputs": [],
   "execution_count": 745
  },
  {
   "cell_type": "code",
   "metadata": {
    "ExecuteTime": {
     "end_time": "2025-05-08T17:26:48.448481Z",
     "start_time": "2025-05-08T17:26:48.315641Z"
    }
   },
   "source": [
    "classifiers = build_classifiers()\n",
    "predicted = build_stacked_classifier(classifiers)\n",
    "accuracy = accuracy_score(test_labels, predicted)\n",
    "print(accuracy)"
   ],
   "outputs": [
    {
     "name": "stdout",
     "output_type": "stream",
     "text": [
      "  1) LinearRegression          + KNeighborsClassifier      + SVC                               - acc = 0.9500\n",
      "  2) LinearRegression          + KNeighborsClassifier      + DecisionTreeClassifier            - acc = 0.9500\n",
      "  3) LinearRegression          + KNeighborsClassifier      + GaussianNB                        - acc = 0.9500\n",
      "  4) LinearRegression          + KNeighborsClassifier      + QuadraticDiscriminantAnalysis         - acc = 0.9500\n",
      "  5) LinearRegression          + SVC                       + DecisionTreeClassifier            - acc = 0.9500\n",
      "  6) LinearRegression          + SVC                       + GaussianNB                        - acc = 0.9000\n",
      "  7) LinearRegression          + SVC                       + QuadraticDiscriminantAnalysis         - acc = 0.8500\n",
      "  8) LinearRegression          + DecisionTreeClassifier    + GaussianNB                        - acc = 0.8500\n",
      "  9) LinearRegression          + DecisionTreeClassifier    + QuadraticDiscriminantAnalysis         - acc = 0.8000\n",
      " 10) LinearRegression          + GaussianNB                + QuadraticDiscriminantAnalysis         - acc = 0.9000\n",
      " 11) KNeighborsClassifier      + SVC                       + DecisionTreeClassifier            - acc = 0.9000\n",
      " 12) KNeighborsClassifier      + SVC                       + GaussianNB                        - acc = 0.8500\n",
      " 13) KNeighborsClassifier      + SVC                       + QuadraticDiscriminantAnalysis         - acc = 0.9000\n",
      " 14) KNeighborsClassifier      + DecisionTreeClassifier    + GaussianNB                        - acc = 0.9000\n",
      " 15) KNeighborsClassifier      + DecisionTreeClassifier    + QuadraticDiscriminantAnalysis         - acc = 0.9500\n",
      " 16) KNeighborsClassifier      + GaussianNB                + QuadraticDiscriminantAnalysis         - acc = 0.9500\n",
      " 17) SVC                       + DecisionTreeClassifier    + GaussianNB                        - acc = 0.9000\n",
      " 18) SVC                       + DecisionTreeClassifier    + QuadraticDiscriminantAnalysis         - acc = 0.9500\n",
      " 19) SVC                       + GaussianNB                + QuadraticDiscriminantAnalysis         - acc = 0.9500\n",
      " 20) DecisionTreeClassifier    + GaussianNB                + QuadraticDiscriminantAnalysis         - acc = 0.9000\n",
      "\n",
      "Best trio found:\n",
      "        - LinearRegression, KNeighborsClassifier, SVC\n",
      "        - Stacked accuracy = 0.9500\n",
      "\n",
      "0.95\n"
     ]
    }
   ],
   "execution_count": 746
  },
  {
   "cell_type": "markdown",
   "metadata": {},
   "source": [
    "## Exercise 2: \n",
    "\n",
    "Use the boosting method and change the code to fullfilt the following requirements:\n",
    "\n",
    "* the weights should be calculated as:\n",
    "$w_{n}^{(t+1)}=\\frac{1+ I(y_{n}\\neq h_{t}(x_{n})}{\\sum_{i=1}^{N}1+I(y_{n}\\neq h_{t}(x_{n})}$,\n",
    "* the prediction is done with a voting method."
   ]
  },
  {
   "cell_type": "code",
   "metadata": {
    "ExecuteTime": {
     "end_time": "2025-05-08T17:26:48.456484Z",
     "start_time": "2025-05-08T17:26:48.451990Z"
    }
   },
   "source": [
    "import numpy as np\n",
    "from sklearn.tree import DecisionTreeClassifier\n",
    "\n",
    "# prepare data set\n",
    "\n",
    "def generate_data(sample_number, feature_number, label_number):\n",
    "    data_set = np.random.random_sample((sample_number, feature_number))\n",
    "    labels = np.random.choice(label_number, sample_number)\n",
    "    return data_set, labels\n",
    "\n",
    "labels = 2\n",
    "dimension = 2\n",
    "test_set_size = 1000\n",
    "train_set_size = 5000\n",
    "train_set, train_labels = generate_data(train_set_size, dimension, labels)\n",
    "test_set, test_labels = generate_data(test_set_size, dimension, labels)\n",
    "\n",
    "# init weights\n",
    "number_of_iterations = 10\n",
    "weights = np.ones((test_set_size,)) / test_set_size\n",
    "\n",
    "\n",
    "def train_model(classifier, weights):\n",
    "    return classifier.fit(X=test_set, y=test_labels, sample_weight=weights)\n",
    "\n",
    "def calculate_error(model):\n",
    "    predicted = model.predict(test_set)\n",
    "    I=calculate_accuracy_vector(predicted, test_labels)\n",
    "    Z=np.sum(I)\n",
    "    return (1+Z)/1.0"
   ],
   "outputs": [],
   "execution_count": 747
  },
  {
   "cell_type": "markdown",
   "metadata": {},
   "source": [
    "Fill the two functions below:"
   ]
  },
  {
   "cell_type": "code",
   "metadata": {
    "ExecuteTime": {
     "end_time": "2025-05-08T17:26:48.490105Z",
     "start_time": "2025-05-08T17:26:48.486865Z"
    }
   },
   "source": [
    "def set_new_weights(model):\n",
    "    I = ( model.predict(test_set) != test_labels).astype(int)\n",
    "    new_w = 1 + I\n",
    "    return new_w / new_w.sum()"
   ],
   "outputs": [],
   "execution_count": 748
  },
  {
   "cell_type": "markdown",
   "metadata": {},
   "source": [
    "Train the classifier with the code below:"
   ]
  },
  {
   "cell_type": "code",
   "metadata": {
    "ExecuteTime": {
     "end_time": "2025-05-08T17:26:48.514212Z",
     "start_time": "2025-05-08T17:26:48.495611Z"
    }
   },
   "source": [
    "classifier = DecisionTreeClassifier(max_depth=1, random_state=1)\n",
    "classifier.fit(X=train_set, y=train_labels)\n",
    "alphas = []\n",
    "classifiers = []\n",
    "for iteration in range(number_of_iterations):\n",
    "    model = train_model(classifier, weights)\n",
    "    weights = set_new_weights(model)\n",
    "    classifiers.append(model)\n",
    "\n",
    "print(weights)\n",
    "\n",
    "\n",
    "validate_x, validate_label = generate_data(1, dimension, labels)"
   ],
   "outputs": [
    {
     "name": "stdout",
     "output_type": "stream",
     "text": [
      "[0.00130804 0.00065402 0.00130804 0.00065402 0.00130804 0.00130804\n",
      " 0.00130804 0.00130804 0.00065402 0.00065402 0.00065402 0.00130804\n",
      " 0.00065402 0.00065402 0.00130804 0.00130804 0.00130804 0.00130804\n",
      " 0.00065402 0.00065402 0.00065402 0.00065402 0.00130804 0.00130804\n",
      " 0.00065402 0.00130804 0.00065402 0.00065402 0.00130804 0.00130804\n",
      " 0.00065402 0.00130804 0.00130804 0.00065402 0.00130804 0.00130804\n",
      " 0.00130804 0.00065402 0.00065402 0.00130804 0.00130804 0.00065402\n",
      " 0.00130804 0.00130804 0.00065402 0.00130804 0.00130804 0.00065402\n",
      " 0.00065402 0.00065402 0.00130804 0.00130804 0.00130804 0.00065402\n",
      " 0.00130804 0.00130804 0.00065402 0.00065402 0.00130804 0.00130804\n",
      " 0.00130804 0.00130804 0.00130804 0.00065402 0.00130804 0.00065402\n",
      " 0.00130804 0.00065402 0.00130804 0.00130804 0.00065402 0.00130804\n",
      " 0.00130804 0.00065402 0.00130804 0.00130804 0.00130804 0.00065402\n",
      " 0.00130804 0.00130804 0.00130804 0.00130804 0.00130804 0.00065402\n",
      " 0.00130804 0.00065402 0.00130804 0.00130804 0.00130804 0.00130804\n",
      " 0.00065402 0.00130804 0.00065402 0.00130804 0.00065402 0.00065402\n",
      " 0.00130804 0.00065402 0.00130804 0.00130804 0.00065402 0.00065402\n",
      " 0.00065402 0.00130804 0.00065402 0.00130804 0.00130804 0.00130804\n",
      " 0.00065402 0.00130804 0.00130804 0.00065402 0.00130804 0.00065402\n",
      " 0.00065402 0.00130804 0.00130804 0.00065402 0.00065402 0.00065402\n",
      " 0.00065402 0.00130804 0.00130804 0.00130804 0.00130804 0.00065402\n",
      " 0.00065402 0.00065402 0.00065402 0.00065402 0.00130804 0.00130804\n",
      " 0.00065402 0.00065402 0.00065402 0.00130804 0.00130804 0.00065402\n",
      " 0.00130804 0.00130804 0.00065402 0.00065402 0.00065402 0.00065402\n",
      " 0.00065402 0.00065402 0.00130804 0.00130804 0.00065402 0.00065402\n",
      " 0.00130804 0.00065402 0.00065402 0.00065402 0.00065402 0.00065402\n",
      " 0.00130804 0.00130804 0.00130804 0.00065402 0.00065402 0.00130804\n",
      " 0.00065402 0.00130804 0.00130804 0.00130804 0.00065402 0.00065402\n",
      " 0.00130804 0.00130804 0.00065402 0.00130804 0.00130804 0.00130804\n",
      " 0.00130804 0.00130804 0.00130804 0.00065402 0.00130804 0.00130804\n",
      " 0.00130804 0.00130804 0.00065402 0.00130804 0.00065402 0.00130804\n",
      " 0.00130804 0.00130804 0.00130804 0.00065402 0.00130804 0.00065402\n",
      " 0.00130804 0.00130804 0.00130804 0.00065402 0.00065402 0.00065402\n",
      " 0.00130804 0.00065402 0.00065402 0.00065402 0.00065402 0.00130804\n",
      " 0.00065402 0.00130804 0.00065402 0.00065402 0.00130804 0.00130804\n",
      " 0.00130804 0.00130804 0.00065402 0.00065402 0.00130804 0.00065402\n",
      " 0.00065402 0.00065402 0.00065402 0.00130804 0.00130804 0.00130804\n",
      " 0.00065402 0.00130804 0.00065402 0.00130804 0.00065402 0.00130804\n",
      " 0.00065402 0.00130804 0.00130804 0.00130804 0.00065402 0.00130804\n",
      " 0.00065402 0.00065402 0.00065402 0.00065402 0.00065402 0.00130804\n",
      " 0.00130804 0.00065402 0.00130804 0.00130804 0.00065402 0.00065402\n",
      " 0.00065402 0.00130804 0.00130804 0.00130804 0.00130804 0.00065402\n",
      " 0.00065402 0.00130804 0.00065402 0.00130804 0.00130804 0.00065402\n",
      " 0.00065402 0.00065402 0.00130804 0.00065402 0.00130804 0.00130804\n",
      " 0.00130804 0.00130804 0.00130804 0.00065402 0.00130804 0.00065402\n",
      " 0.00130804 0.00130804 0.00130804 0.00065402 0.00130804 0.00130804\n",
      " 0.00130804 0.00065402 0.00130804 0.00130804 0.00065402 0.00130804\n",
      " 0.00130804 0.00130804 0.00130804 0.00065402 0.00065402 0.00065402\n",
      " 0.00130804 0.00130804 0.00065402 0.00065402 0.00130804 0.00065402\n",
      " 0.00065402 0.00130804 0.00065402 0.00065402 0.00065402 0.00065402\n",
      " 0.00130804 0.00065402 0.00065402 0.00130804 0.00130804 0.00130804\n",
      " 0.00065402 0.00130804 0.00065402 0.00065402 0.00065402 0.00130804\n",
      " 0.00130804 0.00065402 0.00065402 0.00130804 0.00130804 0.00065402\n",
      " 0.00130804 0.00065402 0.00130804 0.00130804 0.00130804 0.00065402\n",
      " 0.00130804 0.00130804 0.00130804 0.00065402 0.00065402 0.00065402\n",
      " 0.00130804 0.00065402 0.00065402 0.00130804 0.00130804 0.00065402\n",
      " 0.00130804 0.00130804 0.00130804 0.00130804 0.00130804 0.00065402\n",
      " 0.00130804 0.00130804 0.00065402 0.00130804 0.00065402 0.00065402\n",
      " 0.00065402 0.00065402 0.00130804 0.00130804 0.00065402 0.00130804\n",
      " 0.00130804 0.00065402 0.00130804 0.00065402 0.00130804 0.00065402\n",
      " 0.00065402 0.00130804 0.00130804 0.00065402 0.00130804 0.00065402\n",
      " 0.00130804 0.00130804 0.00130804 0.00130804 0.00130804 0.00065402\n",
      " 0.00130804 0.00130804 0.00130804 0.00130804 0.00065402 0.00065402\n",
      " 0.00065402 0.00065402 0.00065402 0.00065402 0.00065402 0.00065402\n",
      " 0.00130804 0.00065402 0.00130804 0.00130804 0.00130804 0.00065402\n",
      " 0.00065402 0.00130804 0.00065402 0.00130804 0.00130804 0.00065402\n",
      " 0.00065402 0.00065402 0.00065402 0.00065402 0.00065402 0.00065402\n",
      " 0.00130804 0.00130804 0.00065402 0.00065402 0.00130804 0.00065402\n",
      " 0.00065402 0.00130804 0.00065402 0.00130804 0.00065402 0.00065402\n",
      " 0.00130804 0.00065402 0.00065402 0.00130804 0.00130804 0.00130804\n",
      " 0.00130804 0.00130804 0.00130804 0.00130804 0.00065402 0.00065402\n",
      " 0.00065402 0.00130804 0.00130804 0.00065402 0.00130804 0.00130804\n",
      " 0.00130804 0.00130804 0.00065402 0.00130804 0.00130804 0.00065402\n",
      " 0.00065402 0.00130804 0.00130804 0.00130804 0.00130804 0.00130804\n",
      " 0.00065402 0.00130804 0.00065402 0.00130804 0.00065402 0.00065402\n",
      " 0.00130804 0.00065402 0.00130804 0.00130804 0.00130804 0.00065402\n",
      " 0.00130804 0.00065402 0.00065402 0.00065402 0.00130804 0.00065402\n",
      " 0.00065402 0.00130804 0.00130804 0.00130804 0.00065402 0.00130804\n",
      " 0.00065402 0.00130804 0.00065402 0.00130804 0.00130804 0.00130804\n",
      " 0.00065402 0.00065402 0.00130804 0.00130804 0.00130804 0.00065402\n",
      " 0.00065402 0.00130804 0.00065402 0.00065402 0.00130804 0.00065402\n",
      " 0.00065402 0.00065402 0.00065402 0.00065402 0.00130804 0.00130804\n",
      " 0.00130804 0.00130804 0.00130804 0.00065402 0.00065402 0.00130804\n",
      " 0.00065402 0.00065402 0.00130804 0.00130804 0.00065402 0.00130804\n",
      " 0.00065402 0.00130804 0.00065402 0.00065402 0.00065402 0.00065402\n",
      " 0.00065402 0.00130804 0.00130804 0.00130804 0.00130804 0.00065402\n",
      " 0.00065402 0.00130804 0.00065402 0.00130804 0.00065402 0.00130804\n",
      " 0.00065402 0.00065402 0.00065402 0.00065402 0.00065402 0.00130804\n",
      " 0.00065402 0.00130804 0.00130804 0.00130804 0.00065402 0.00130804\n",
      " 0.00065402 0.00130804 0.00130804 0.00065402 0.00130804 0.00065402\n",
      " 0.00065402 0.00065402 0.00065402 0.00065402 0.00130804 0.00065402\n",
      " 0.00065402 0.00065402 0.00065402 0.00130804 0.00130804 0.00130804\n",
      " 0.00065402 0.00065402 0.00065402 0.00130804 0.00130804 0.00130804\n",
      " 0.00130804 0.00065402 0.00130804 0.00065402 0.00130804 0.00130804\n",
      " 0.00065402 0.00065402 0.00065402 0.00065402 0.00130804 0.00130804\n",
      " 0.00065402 0.00130804 0.00130804 0.00130804 0.00065402 0.00065402\n",
      " 0.00130804 0.00130804 0.00065402 0.00130804 0.00065402 0.00130804\n",
      " 0.00130804 0.00130804 0.00130804 0.00065402 0.00130804 0.00065402\n",
      " 0.00065402 0.00130804 0.00130804 0.00065402 0.00130804 0.00130804\n",
      " 0.00130804 0.00130804 0.00065402 0.00065402 0.00065402 0.00130804\n",
      " 0.00065402 0.00130804 0.00065402 0.00130804 0.00130804 0.00065402\n",
      " 0.00130804 0.00130804 0.00065402 0.00065402 0.00065402 0.00065402\n",
      " 0.00065402 0.00130804 0.00065402 0.00130804 0.00130804 0.00130804\n",
      " 0.00065402 0.00130804 0.00065402 0.00065402 0.00065402 0.00065402\n",
      " 0.00065402 0.00130804 0.00130804 0.00130804 0.00130804 0.00065402\n",
      " 0.00065402 0.00130804 0.00065402 0.00130804 0.00065402 0.00130804\n",
      " 0.00130804 0.00130804 0.00130804 0.00130804 0.00065402 0.00130804\n",
      " 0.00130804 0.00130804 0.00130804 0.00130804 0.00130804 0.00065402\n",
      " 0.00130804 0.00065402 0.00130804 0.00130804 0.00130804 0.00130804\n",
      " 0.00065402 0.00130804 0.00130804 0.00130804 0.00065402 0.00130804\n",
      " 0.00130804 0.00130804 0.00065402 0.00130804 0.00065402 0.00065402\n",
      " 0.00130804 0.00065402 0.00130804 0.00130804 0.00130804 0.00130804\n",
      " 0.00065402 0.00130804 0.00130804 0.00065402 0.00065402 0.00065402\n",
      " 0.00130804 0.00065402 0.00065402 0.00130804 0.00065402 0.00130804\n",
      " 0.00130804 0.00065402 0.00130804 0.00130804 0.00065402 0.00130804\n",
      " 0.00130804 0.00130804 0.00065402 0.00065402 0.00065402 0.00065402\n",
      " 0.00130804 0.00065402 0.00130804 0.00065402 0.00065402 0.00065402\n",
      " 0.00130804 0.00065402 0.00065402 0.00065402 0.00065402 0.00130804\n",
      " 0.00130804 0.00130804 0.00130804 0.00130804 0.00065402 0.00130804\n",
      " 0.00130804 0.00130804 0.00065402 0.00130804 0.00130804 0.00130804\n",
      " 0.00130804 0.00130804 0.00065402 0.00065402 0.00130804 0.00130804\n",
      " 0.00130804 0.00065402 0.00130804 0.00065402 0.00065402 0.00130804\n",
      " 0.00130804 0.00130804 0.00130804 0.00130804 0.00130804 0.00130804\n",
      " 0.00065402 0.00130804 0.00130804 0.00130804 0.00065402 0.00130804\n",
      " 0.00130804 0.00130804 0.00065402 0.00065402 0.00065402 0.00130804\n",
      " 0.00065402 0.00065402 0.00065402 0.00065402 0.00130804 0.00130804\n",
      " 0.00065402 0.00130804 0.00130804 0.00130804 0.00065402 0.00130804\n",
      " 0.00065402 0.00065402 0.00130804 0.00065402 0.00065402 0.00130804\n",
      " 0.00130804 0.00130804 0.00065402 0.00065402 0.00065402 0.00065402\n",
      " 0.00065402 0.00065402 0.00065402 0.00065402 0.00065402 0.00065402\n",
      " 0.00130804 0.00130804 0.00130804 0.00130804 0.00065402 0.00065402\n",
      " 0.00065402 0.00065402 0.00130804 0.00130804 0.00130804 0.00130804\n",
      " 0.00065402 0.00130804 0.00130804 0.00130804 0.00065402 0.00065402\n",
      " 0.00065402 0.00130804 0.00130804 0.00130804 0.00065402 0.00130804\n",
      " 0.00065402 0.00065402 0.00130804 0.00130804 0.00130804 0.00065402\n",
      " 0.00130804 0.00130804 0.00130804 0.00065402 0.00130804 0.00130804\n",
      " 0.00130804 0.00130804 0.00065402 0.00130804 0.00130804 0.00130804\n",
      " 0.00130804 0.00065402 0.00130804 0.00065402 0.00065402 0.00130804\n",
      " 0.00065402 0.00130804 0.00065402 0.00130804 0.00065402 0.00065402\n",
      " 0.00065402 0.00065402 0.00065402 0.00065402 0.00130804 0.00065402\n",
      " 0.00065402 0.00130804 0.00065402 0.00130804 0.00065402 0.00065402\n",
      " 0.00065402 0.00130804 0.00065402 0.00130804 0.00130804 0.00130804\n",
      " 0.00130804 0.00065402 0.00065402 0.00130804 0.00130804 0.00130804\n",
      " 0.00065402 0.00065402 0.00065402 0.00130804 0.00130804 0.00065402\n",
      " 0.00130804 0.00065402 0.00130804 0.00065402 0.00065402 0.00065402\n",
      " 0.00130804 0.00065402 0.00065402 0.00065402 0.00130804 0.00065402\n",
      " 0.00065402 0.00065402 0.00065402 0.00065402 0.00065402 0.00130804\n",
      " 0.00065402 0.00130804 0.00130804 0.00065402 0.00130804 0.00130804\n",
      " 0.00065402 0.00130804 0.00065402 0.00065402 0.00130804 0.00130804\n",
      " 0.00065402 0.00065402 0.00065402 0.00130804 0.00130804 0.00130804\n",
      " 0.00065402 0.00130804 0.00065402 0.00065402 0.00130804 0.00130804\n",
      " 0.00130804 0.00065402 0.00130804 0.00065402 0.00065402 0.00130804\n",
      " 0.00130804 0.00065402 0.00130804 0.00065402 0.00065402 0.00130804\n",
      " 0.00130804 0.00065402 0.00065402 0.00130804 0.00130804 0.00130804\n",
      " 0.00065402 0.00065402 0.00065402 0.00065402 0.00065402 0.00130804\n",
      " 0.00130804 0.00065402 0.00130804 0.00065402 0.00130804 0.00130804\n",
      " 0.00065402 0.00130804 0.00130804 0.00065402 0.00065402 0.00130804\n",
      " 0.00130804 0.00130804 0.00130804 0.00130804 0.00130804 0.00130804\n",
      " 0.00065402 0.00065402 0.00065402 0.00065402 0.00065402 0.00130804\n",
      " 0.00130804 0.00065402 0.00130804 0.00130804 0.00065402 0.00130804\n",
      " 0.00065402 0.00065402 0.00065402 0.00065402 0.00130804 0.00130804\n",
      " 0.00065402 0.00130804 0.00130804 0.00130804 0.00130804 0.00065402\n",
      " 0.00130804 0.00065402 0.00130804 0.00065402 0.00130804 0.00065402\n",
      " 0.00130804 0.00065402 0.00065402 0.00065402 0.00130804 0.00065402\n",
      " 0.00130804 0.00130804 0.00065402 0.00065402 0.00130804 0.00065402\n",
      " 0.00130804 0.00065402 0.00130804 0.00130804 0.00065402 0.00065402\n",
      " 0.00130804 0.00065402 0.00065402 0.00130804]\n"
     ]
    }
   ],
   "execution_count": 749
  },
  {
   "cell_type": "markdown",
   "metadata": {},
   "source": [
    "Set the validation data set:"
   ]
  },
  {
   "cell_type": "code",
   "metadata": {
    "ExecuteTime": {
     "end_time": "2025-05-08T17:26:48.583266Z",
     "start_time": "2025-05-08T17:26:48.580171Z"
    }
   },
   "source": "validate_x, validate_label = generate_data(200, dimension, labels)",
   "outputs": [],
   "execution_count": 750
  },
  {
   "cell_type": "markdown",
   "metadata": {},
   "source": [
    "Fill the prediction code:"
   ]
  },
  {
   "cell_type": "code",
   "metadata": {
    "ExecuteTime": {
     "end_time": "2025-05-08T17:26:48.606547Z",
     "start_time": "2025-05-08T17:26:48.603437Z"
    }
   },
   "source": [
    "def get_prediction(x):\n",
    "    preds = np.column_stack([clf.predict(x) for clf in classifiers])\n",
    "    final = []\n",
    "    for i in range(preds.shape[0]):\n",
    "        counts = np.bincount(preds[i, :])\n",
    "        final.append(np.argmax(counts))\n",
    "    return np.array(final)"
   ],
   "outputs": [],
   "execution_count": 751
  },
  {
   "cell_type": "markdown",
   "metadata": {},
   "source": [
    "Test it:"
   ]
  },
  {
   "cell_type": "code",
   "metadata": {
    "ExecuteTime": {
     "end_time": "2025-05-08T17:26:48.631921Z",
     "start_time": "2025-05-08T17:26:48.625624Z"
    }
   },
   "source": [
    "prediction = get_prediction(validate_x)\n",
    "\n",
    "print(prediction)\n",
    "\n",
    "acc = accuracy_score(validate_label, prediction)\n",
    "print(f\"Accuracy for val: {acc:.3f}\")"
   ],
   "outputs": [
    {
     "name": "stdout",
     "output_type": "stream",
     "text": [
      "[0 0 1 0 0 0 1 1 0 0 0 0 0 0 1 0 1 1 0 0 1 1 0 0 0 0 0 0 1 0 1 1 0 0 0 0 0\n",
      " 0 1 0 0 1 1 0 0 1 1 0 0 1 0 0 1 0 1 0 1 0 0 0 0 0 0 0 1 1 0 1 0 0 1 1 1 1\n",
      " 1 0 1 0 1 1 0 0 0 1 0 0 0 1 0 0 0 0 0 0 1 0 0 0 0 0 0 1 0 1 1 0 0 0 0 1 0\n",
      " 0 0 0 0 1 0 0 0 0 0 0 1 1 0 0 1 1 1 0 0 0 1 0 0 0 0 0 1 0 1 0 1 1 0 1 0 0\n",
      " 1 0 1 0 0 0 1 1 0 0 0 0 0 1 0 0 1 0 0 0 0 0 0 0 1 0 0 0 1 0 0 1 0 0 1 1 0\n",
      " 1 0 1 0 1 0 0 1 0 1 0 0 0 0 0]\n",
      "Accuracy for val: 0.505\n"
     ]
    }
   ],
   "execution_count": 752
  }
 ],
 "metadata": {
  "kernelspec": {
   "display_name": "Python 3",
   "language": "python",
   "name": "python3"
  },
  "language_info": {
   "codemirror_mode": {
    "name": "ipython",
    "version": 3
   },
   "file_extension": ".py",
   "mimetype": "text/x-python",
   "name": "python",
   "nbconvert_exporter": "python",
   "pygments_lexer": "ipython3",
   "version": "3.6.9"
  }
 },
 "nbformat": 4,
 "nbformat_minor": 4
}
