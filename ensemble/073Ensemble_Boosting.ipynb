{
 "cells": [
  {
   "cell_type": "markdown",
   "metadata": {},
   "source": [
    "# Ensemble methods. Boosting\n",
    "\n",
    "\n",
    "## AdaBoost\n",
    "\n",
    "AdaBoost consists of following steps:\n",
    "* initialize weights to $\\frac{1}{N}$, where $N$ is the number of datapoints,\n",
    "* loop until \n",
    "  $\\varepsilon_{t}<\\frac{1}{2}$\n",
    "  or maximum number of iteration is reached,\n",
    "\n",
    "* train classifier on ${S,w^{(t)}}$ and get a hypothesis $h_{t}(x_{n})$ for datapoints $x_{n}$,\n",
    "\n",
    "* compute error $\\varepsilon_{t}=\\sum_{n=1}^{N}w_{n}^{(t)}I(y_{n}\\neq h_{t}(x_{n}))$,       \n",
    "\n",
    "* set $\\alpha_{t}=\\log(\\frac{1-\\varepsilon_{t}}{\\varepsilon_{t}})$.\n",
    "  \n",
    "* update weights $w_{n}^{(t+1)}=\\frac{w_{n}^{(t)}\\exp{\\alpha_{t}I(y_{n}\\neq h_{t}(x_{n}))}}{Z_{t}}$,\n",
    "  where $Z_{t}$ is a normalization constant,\n",
    "\n",
    "* output $f(X)=\\text{sign}(\\sum_{t=1}^{T}\\alpha_{t}h_{t}(x))$.\n",
    "  \n",
    "Example taken from Marsland, Machine Learning: https://seat.massey.ac.nz/personal/s.r.marsland/MLBook.html.\n",
    "\n",
    "\n",
    "First, we need to import libraries:"
   ]
  },
  {
   "cell_type": "code",
   "metadata": {
    "ExecuteTime": {
     "end_time": "2025-05-08T16:20:27.681225Z",
     "start_time": "2025-05-08T16:20:27.678260Z"
    }
   },
   "source": [
    "import numpy as np\n",
    "from sklearn.tree import DecisionTreeClassifier"
   ],
   "outputs": [],
   "execution_count": 17
  },
  {
   "metadata": {
    "ExecuteTime": {
     "end_time": "2025-05-08T16:20:27.755121Z",
     "start_time": "2025-05-08T16:20:27.687231Z"
    }
   },
   "cell_type": "code",
   "source": [
    "%store -r data_set\n",
    "%store -r labels\n",
    "%store -r test_data_set\n",
    "%store -r test_labels\n",
    "%store -r unique_labels"
   ],
   "outputs": [],
   "execution_count": 18
  },
  {
   "cell_type": "markdown",
   "metadata": {},
   "source": [
    "Variables that are used by the classifier:"
   ]
  },
  {
   "cell_type": "code",
   "metadata": {
    "ExecuteTime": {
     "end_time": "2025-05-08T16:20:27.886931Z",
     "start_time": "2025-05-08T16:20:27.779405Z"
    }
   },
   "source": [
    "from sklearn.datasets import load_iris\n",
    "import numpy as np\n",
    "from sklearn.model_selection import train_test_split\n",
    "\n",
    "\n",
    "labels = 2\n",
    "dimension = 3\n",
    "\n",
    "iris = load_iris()\n",
    "\n",
    "train_set, test_set, train_labels, test_labels = train_test_split(data_set, labels, \n",
    "                                                                            test_size=0.33, random_state=42)"
   ],
   "outputs": [
    {
     "ename": "TypeError",
     "evalue": "Input should have at least 1 dimension i.e. satisfy `len(x.shape) > 0`, got scalar `array(2)` instead.",
     "output_type": "error",
     "traceback": [
      "\u001B[31m---------------------------------------------------------------------------\u001B[39m",
      "\u001B[31mTypeError\u001B[39m                                 Traceback (most recent call last)",
      "\u001B[36mCell\u001B[39m\u001B[36m \u001B[39m\u001B[32mIn[19]\u001B[39m\u001B[32m, line 11\u001B[39m\n\u001B[32m      7\u001B[39m dimension = \u001B[32m3\u001B[39m\n\u001B[32m      9\u001B[39m iris = load_iris()\n\u001B[32m---> \u001B[39m\u001B[32m11\u001B[39m train_set, test_set, train_labels, test_labels = train_test_split(data_set, labels, \n\u001B[32m     12\u001B[39m                                                                             test_size=\u001B[32m0.33\u001B[39m, random_state=\u001B[32m42\u001B[39m)\n",
      "\u001B[36mFile \u001B[39m\u001B[32mD:\\miniconda3\\envs\\Machine_Learning\\Lib\\site-packages\\sklearn\\utils\\_param_validation.py:216\u001B[39m, in \u001B[36mvalidate_params.<locals>.decorator.<locals>.wrapper\u001B[39m\u001B[34m(*args, **kwargs)\u001B[39m\n\u001B[32m    210\u001B[39m \u001B[38;5;28;01mtry\u001B[39;00m:\n\u001B[32m    211\u001B[39m     \u001B[38;5;28;01mwith\u001B[39;00m config_context(\n\u001B[32m    212\u001B[39m         skip_parameter_validation=(\n\u001B[32m    213\u001B[39m             prefer_skip_nested_validation \u001B[38;5;129;01mor\u001B[39;00m global_skip_validation\n\u001B[32m    214\u001B[39m         )\n\u001B[32m    215\u001B[39m     ):\n\u001B[32m--> \u001B[39m\u001B[32m216\u001B[39m         \u001B[38;5;28;01mreturn\u001B[39;00m func(*args, **kwargs)\n\u001B[32m    217\u001B[39m \u001B[38;5;28;01mexcept\u001B[39;00m InvalidParameterError \u001B[38;5;28;01mas\u001B[39;00m e:\n\u001B[32m    218\u001B[39m     \u001B[38;5;66;03m# When the function is just a wrapper around an estimator, we allow\u001B[39;00m\n\u001B[32m    219\u001B[39m     \u001B[38;5;66;03m# the function to delegate validation to the estimator, but we replace\u001B[39;00m\n\u001B[32m    220\u001B[39m     \u001B[38;5;66;03m# the name of the estimator by the name of the function in the error\u001B[39;00m\n\u001B[32m    221\u001B[39m     \u001B[38;5;66;03m# message to avoid confusion.\u001B[39;00m\n\u001B[32m    222\u001B[39m     msg = re.sub(\n\u001B[32m    223\u001B[39m         \u001B[33mr\u001B[39m\u001B[33m\"\u001B[39m\u001B[33mparameter of \u001B[39m\u001B[33m\\\u001B[39m\u001B[33mw+ must be\u001B[39m\u001B[33m\"\u001B[39m,\n\u001B[32m    224\u001B[39m         \u001B[33mf\u001B[39m\u001B[33m\"\u001B[39m\u001B[33mparameter of \u001B[39m\u001B[38;5;132;01m{\u001B[39;00mfunc.\u001B[34m__qualname__\u001B[39m\u001B[38;5;132;01m}\u001B[39;00m\u001B[33m must be\u001B[39m\u001B[33m\"\u001B[39m,\n\u001B[32m    225\u001B[39m         \u001B[38;5;28mstr\u001B[39m(e),\n\u001B[32m    226\u001B[39m     )\n",
      "\u001B[36mFile \u001B[39m\u001B[32mD:\\miniconda3\\envs\\Machine_Learning\\Lib\\site-packages\\sklearn\\model_selection\\_split.py:2848\u001B[39m, in \u001B[36mtrain_test_split\u001B[39m\u001B[34m(test_size, train_size, random_state, shuffle, stratify, *arrays)\u001B[39m\n\u001B[32m   2845\u001B[39m \u001B[38;5;28;01mif\u001B[39;00m n_arrays == \u001B[32m0\u001B[39m:\n\u001B[32m   2846\u001B[39m     \u001B[38;5;28;01mraise\u001B[39;00m \u001B[38;5;167;01mValueError\u001B[39;00m(\u001B[33m\"\u001B[39m\u001B[33mAt least one array required as input\u001B[39m\u001B[33m\"\u001B[39m)\n\u001B[32m-> \u001B[39m\u001B[32m2848\u001B[39m arrays = indexable(*arrays)\n\u001B[32m   2850\u001B[39m n_samples = _num_samples(arrays[\u001B[32m0\u001B[39m])\n\u001B[32m   2851\u001B[39m n_train, n_test = _validate_shuffle_split(\n\u001B[32m   2852\u001B[39m     n_samples, test_size, train_size, default_test_size=\u001B[32m0.25\u001B[39m\n\u001B[32m   2853\u001B[39m )\n",
      "\u001B[36mFile \u001B[39m\u001B[32mD:\\miniconda3\\envs\\Machine_Learning\\Lib\\site-packages\\sklearn\\utils\\validation.py:532\u001B[39m, in \u001B[36mindexable\u001B[39m\u001B[34m(*iterables)\u001B[39m\n\u001B[32m    502\u001B[39m \u001B[38;5;250m\u001B[39m\u001B[33;03m\"\"\"Make arrays indexable for cross-validation.\u001B[39;00m\n\u001B[32m    503\u001B[39m \n\u001B[32m    504\u001B[39m \u001B[33;03mChecks consistent length, passes through None, and ensures that everything\u001B[39;00m\n\u001B[32m   (...)\u001B[39m\u001B[32m    528\u001B[39m \u001B[33;03m[[1, 2, 3], array([2, 3, 4]), None, <...Sparse...dtype 'int64'...shape (3, 1)>]\u001B[39;00m\n\u001B[32m    529\u001B[39m \u001B[33;03m\"\"\"\u001B[39;00m\n\u001B[32m    531\u001B[39m result = [_make_indexable(X) \u001B[38;5;28;01mfor\u001B[39;00m X \u001B[38;5;129;01min\u001B[39;00m iterables]\n\u001B[32m--> \u001B[39m\u001B[32m532\u001B[39m check_consistent_length(*result)\n\u001B[32m    533\u001B[39m \u001B[38;5;28;01mreturn\u001B[39;00m result\n",
      "\u001B[36mFile \u001B[39m\u001B[32mD:\\miniconda3\\envs\\Machine_Learning\\Lib\\site-packages\\sklearn\\utils\\validation.py:472\u001B[39m, in \u001B[36mcheck_consistent_length\u001B[39m\u001B[34m(*arrays)\u001B[39m\n\u001B[32m    454\u001B[39m \u001B[38;5;28;01mdef\u001B[39;00m\u001B[38;5;250m \u001B[39m\u001B[34mcheck_consistent_length\u001B[39m(*arrays):\n\u001B[32m    455\u001B[39m \u001B[38;5;250m    \u001B[39m\u001B[33;03m\"\"\"Check that all arrays have consistent first dimensions.\u001B[39;00m\n\u001B[32m    456\u001B[39m \n\u001B[32m    457\u001B[39m \u001B[33;03m    Checks whether all objects in arrays have the same shape or length.\u001B[39;00m\n\u001B[32m   (...)\u001B[39m\u001B[32m    469\u001B[39m \u001B[33;03m    >>> check_consistent_length(a, b)\u001B[39;00m\n\u001B[32m    470\u001B[39m \u001B[33;03m    \"\"\"\u001B[39;00m\n\u001B[32m--> \u001B[39m\u001B[32m472\u001B[39m     lengths = [_num_samples(X) \u001B[38;5;28;01mfor\u001B[39;00m X \u001B[38;5;129;01min\u001B[39;00m arrays \u001B[38;5;28;01mif\u001B[39;00m X \u001B[38;5;129;01mis\u001B[39;00m \u001B[38;5;129;01mnot\u001B[39;00m \u001B[38;5;28;01mNone\u001B[39;00m]\n\u001B[32m    473\u001B[39m     uniques = np.unique(lengths)\n\u001B[32m    474\u001B[39m     \u001B[38;5;28;01mif\u001B[39;00m \u001B[38;5;28mlen\u001B[39m(uniques) > \u001B[32m1\u001B[39m:\n",
      "\u001B[36mFile \u001B[39m\u001B[32mD:\\miniconda3\\envs\\Machine_Learning\\Lib\\site-packages\\sklearn\\utils\\validation.py:399\u001B[39m, in \u001B[36m_num_samples\u001B[39m\u001B[34m(x)\u001B[39m\n\u001B[32m    397\u001B[39m \u001B[38;5;28;01mif\u001B[39;00m \u001B[38;5;28mhasattr\u001B[39m(x, \u001B[33m\"\u001B[39m\u001B[33mshape\u001B[39m\u001B[33m\"\u001B[39m) \u001B[38;5;129;01mand\u001B[39;00m x.shape \u001B[38;5;129;01mis\u001B[39;00m \u001B[38;5;129;01mnot\u001B[39;00m \u001B[38;5;28;01mNone\u001B[39;00m:\n\u001B[32m    398\u001B[39m     \u001B[38;5;28;01mif\u001B[39;00m \u001B[38;5;28mlen\u001B[39m(x.shape) == \u001B[32m0\u001B[39m:\n\u001B[32m--> \u001B[39m\u001B[32m399\u001B[39m         \u001B[38;5;28;01mraise\u001B[39;00m \u001B[38;5;167;01mTypeError\u001B[39;00m(\n\u001B[32m    400\u001B[39m             \u001B[33m\"\u001B[39m\u001B[33mInput should have at least 1 dimension i.e. satisfy \u001B[39m\u001B[33m\"\u001B[39m\n\u001B[32m    401\u001B[39m             \u001B[33mf\u001B[39m\u001B[33m\"\u001B[39m\u001B[33m`len(x.shape) > 0`, got scalar `\u001B[39m\u001B[38;5;132;01m{\u001B[39;00mx\u001B[38;5;132;01m!r}\u001B[39;00m\u001B[33m` instead.\u001B[39m\u001B[33m\"\u001B[39m\n\u001B[32m    402\u001B[39m         )\n\u001B[32m    403\u001B[39m     \u001B[38;5;66;03m# Check that shape is returning an integer or default to len\u001B[39;00m\n\u001B[32m    404\u001B[39m     \u001B[38;5;66;03m# Dask dataframes may not return numeric shape[0] value\u001B[39;00m\n\u001B[32m    405\u001B[39m     \u001B[38;5;28;01mif\u001B[39;00m \u001B[38;5;28misinstance\u001B[39m(x.shape[\u001B[32m0\u001B[39m], numbers.Integral):\n",
      "\u001B[31mTypeError\u001B[39m: Input should have at least 1 dimension i.e. satisfy `len(x.shape) > 0`, got scalar `array(2)` instead."
     ]
    }
   ],
   "execution_count": 19
  },
  {
   "cell_type": "markdown",
   "metadata": {},
   "source": [
    "Weights initialization:"
   ]
  },
  {
   "cell_type": "code",
   "metadata": {
    "ExecuteTime": {
     "end_time": "2025-05-08T16:20:27.894936Z",
     "start_time": "2025-05-08T16:12:17.277251Z"
    }
   },
   "source": [
    "number_of_iterations = 10\n",
    "weights = np.ones((len(test_set),)) / len(test_set)"
   ],
   "outputs": [
    {
     "ename": "NameError",
     "evalue": "name 'test_set' is not defined",
     "output_type": "error",
     "traceback": [
      "\u001B[31m---------------------------------------------------------------------------\u001B[39m",
      "\u001B[31mNameError\u001B[39m                                 Traceback (most recent call last)",
      "\u001B[36mCell\u001B[39m\u001B[36m \u001B[39m\u001B[32mIn[3]\u001B[39m\u001B[32m, line 2\u001B[39m\n\u001B[32m      1\u001B[39m number_of_iterations = \u001B[32m10\u001B[39m\n\u001B[32m----> \u001B[39m\u001B[32m2\u001B[39m weights = np.ones((\u001B[38;5;28mlen\u001B[39m(test_set),)) / \u001B[38;5;28mlen\u001B[39m(test_set)\n",
      "\u001B[31mNameError\u001B[39m: name 'test_set' is not defined"
     ]
    }
   ],
   "execution_count": 3
  },
  {
   "cell_type": "markdown",
   "metadata": {},
   "source": [
    "The data set looks as:"
   ]
  },
  {
   "cell_type": "code",
   "metadata": {
    "ExecuteTime": {
     "end_time": "2025-05-08T16:20:27.900936Z",
     "start_time": "2025-05-08T16:12:19.243439Z"
    }
   },
   "source": [
    "import matplotlib.pyplot as plt\n",
    "\n",
    "sizes = np.ones(len(test_set))*5\n",
    "\n",
    "plt.scatter(test_set[:, 1], test_set[:, 2], c=test_labels, s=sizes, cmap='autumn')\n",
    "plt.show()"
   ],
   "outputs": [
    {
     "ename": "NameError",
     "evalue": "name 'test_set' is not defined",
     "output_type": "error",
     "traceback": [
      "\u001B[31m---------------------------------------------------------------------------\u001B[39m",
      "\u001B[31mNameError\u001B[39m                                 Traceback (most recent call last)",
      "\u001B[36mCell\u001B[39m\u001B[36m \u001B[39m\u001B[32mIn[4]\u001B[39m\u001B[32m, line 3\u001B[39m\n\u001B[32m      1\u001B[39m \u001B[38;5;28;01mimport\u001B[39;00m\u001B[38;5;250m \u001B[39m\u001B[34;01mmatplotlib\u001B[39;00m\u001B[34;01m.\u001B[39;00m\u001B[34;01mpyplot\u001B[39;00m\u001B[38;5;250m \u001B[39m\u001B[38;5;28;01mas\u001B[39;00m\u001B[38;5;250m \u001B[39m\u001B[34;01mplt\u001B[39;00m\n\u001B[32m----> \u001B[39m\u001B[32m3\u001B[39m sizes = np.ones(\u001B[38;5;28mlen\u001B[39m(test_set))*\u001B[32m5\u001B[39m\n\u001B[32m      5\u001B[39m plt.scatter(test_set[:, \u001B[32m1\u001B[39m], test_set[:, \u001B[32m2\u001B[39m], c=test_labels, s=sizes, cmap=\u001B[33m'\u001B[39m\u001B[33mautumn\u001B[39m\u001B[33m'\u001B[39m)\n\u001B[32m      6\u001B[39m plt.show()\n",
      "\u001B[31mNameError\u001B[39m: name 'test_set' is not defined"
     ]
    }
   ],
   "execution_count": 4
  },
  {
   "cell_type": "code",
   "metadata": {
    "ExecuteTime": {
     "end_time": "2025-05-08T16:20:27.901435400Z",
     "start_time": "2025-05-08T16:12:22.896338Z"
    }
   },
   "source": [
    "def train_model(classifier, weights):\n",
    "    return classifier.fit(X=test_set, y=test_labels, sample_weight=weights)"
   ],
   "outputs": [],
   "execution_count": 5
  },
  {
   "cell_type": "markdown",
   "metadata": {},
   "source": [
    "Accuracy vector calculation for the weights: 0 - don't change the weight, 1 - change it."
   ]
  },
  {
   "cell_type": "code",
   "metadata": {
    "ExecuteTime": {
     "end_time": "2025-05-08T16:20:27.901937100Z",
     "start_time": "2025-05-08T16:12:25.326276Z"
    }
   },
   "source": [
    "def calculate_accuracy_vector(predicted, labels):\n",
    "    result = []\n",
    "    for i in range(len(predicted)):\n",
    "        if predicted[i] == labels[i]:\n",
    "            result.append(0)\n",
    "        else:\n",
    "            result.append(1)\n",
    "    return result"
   ],
   "outputs": [],
   "execution_count": 6
  },
  {
   "cell_type": "markdown",
   "metadata": {},
   "source": [
    "Calculate the error rate $\\varepsilon_{t}=\\sum_{n=1}^{N}w_{n}^{(t)}I(y_{n}\\neq h_{t}(x_{n}))$:"
   ]
  },
  {
   "cell_type": "code",
   "metadata": {
    "ExecuteTime": {
     "end_time": "2025-05-08T16:20:27.902436700Z",
     "start_time": "2025-05-08T16:12:27.203785Z"
    }
   },
   "source": [
    "def calculate_error(weights, model):\n",
    "    predicted = model.predict(test_set)\n",
    "    return np.dot(weights,calculate_accuracy_vector(predicted, test_labels))"
   ],
   "outputs": [],
   "execution_count": 7
  },
  {
   "cell_type": "markdown",
   "metadata": {},
   "source": [
    "Calculate the $\\alpha_{t}=\\log(\\frac{1-\\varepsilon_{t}}{\\varepsilon_{t}})$:"
   ]
  },
  {
   "cell_type": "code",
   "metadata": {
    "ExecuteTime": {
     "end_time": "2025-05-08T16:20:27.902436700Z",
     "start_time": "2025-05-08T16:12:28.003789Z"
    }
   },
   "source": [
    "def set_alpha(error_rate):\n",
    "    return np.log((1-error_rate)/error_rate)"
   ],
   "outputs": [],
   "execution_count": 8
  },
  {
   "cell_type": "markdown",
   "metadata": {},
   "source": [
    "Calculate the new weights $w_{n}^{(t+1)}=\\frac{w_{n}^{(t)}\\exp{\\alpha_{t}I(y_{n}\\neq h_{t}(x_{n}))}}{Z_{t}}$:"
   ]
  },
  {
   "cell_type": "code",
   "metadata": {
    "ExecuteTime": {
     "end_time": "2025-05-08T16:20:27.902936400Z",
     "start_time": "2025-05-08T16:12:29.494767Z"
    }
   },
   "source": [
    "def set_new_weights(old_weights, alpha, model):\n",
    "    new_weights = old_weights * np.exp(np.multiply(alpha,calculate_accuracy_vector(model.predict(test_set), test_labels)))\n",
    "    Zt = np.sum(new_weights)\n",
    "    return new_weights / Zt"
   ],
   "outputs": [],
   "execution_count": 9
  },
  {
   "cell_type": "markdown",
   "metadata": {},
   "source": [
    "Now, it's time to run the code and check the weights:"
   ]
  },
  {
   "cell_type": "code",
   "metadata": {
    "ExecuteTime": {
     "end_time": "2025-05-08T16:20:27.902936400Z",
     "start_time": "2025-05-08T16:12:30.423486Z"
    }
   },
   "source": [
    "classifier = DecisionTreeClassifier(max_depth=1, random_state=1)\n",
    "classifier.fit(X=train_set, y=train_labels)\n",
    "alphas = []\n",
    "classifiers = []\n",
    "for iteration in range(number_of_iterations):\n",
    "    model = train_model(classifier, weights)\n",
    "    error_rate = calculate_error(weights, model)\n",
    "    alpha = set_alpha(error_rate)\n",
    "    weights = set_new_weights(weights, alpha, model)\n",
    "    alphas.append(alpha)\n",
    "    classifiers.append(model)\n",
    "\n",
    "print(weights)"
   ],
   "outputs": [
    {
     "ename": "NameError",
     "evalue": "name 'train_set' is not defined",
     "output_type": "error",
     "traceback": [
      "\u001B[31m---------------------------------------------------------------------------\u001B[39m",
      "\u001B[31mNameError\u001B[39m                                 Traceback (most recent call last)",
      "\u001B[36mCell\u001B[39m\u001B[36m \u001B[39m\u001B[32mIn[10]\u001B[39m\u001B[32m, line 2\u001B[39m\n\u001B[32m      1\u001B[39m classifier = DecisionTreeClassifier(max_depth=\u001B[32m1\u001B[39m, random_state=\u001B[32m1\u001B[39m)\n\u001B[32m----> \u001B[39m\u001B[32m2\u001B[39m classifier.fit(X=train_set, y=train_labels)\n\u001B[32m      3\u001B[39m alphas = []\n\u001B[32m      4\u001B[39m classifiers = []\n",
      "\u001B[31mNameError\u001B[39m: name 'train_set' is not defined"
     ]
    }
   ],
   "execution_count": 10
  },
  {
   "cell_type": "code",
   "metadata": {
    "ExecuteTime": {
     "end_time": "2025-05-08T16:20:27.903437100Z",
     "start_time": "2025-05-08T16:12:32.575417Z"
    }
   },
   "source": [
    "weights = (weights/np.min(weights))*2"
   ],
   "outputs": [
    {
     "ename": "NameError",
     "evalue": "name 'weights' is not defined",
     "output_type": "error",
     "traceback": [
      "\u001B[31m---------------------------------------------------------------------------\u001B[39m",
      "\u001B[31mNameError\u001B[39m                                 Traceback (most recent call last)",
      "\u001B[36mCell\u001B[39m\u001B[36m \u001B[39m\u001B[32mIn[11]\u001B[39m\u001B[32m, line 1\u001B[39m\n\u001B[32m----> \u001B[39m\u001B[32m1\u001B[39m weights = (weights/np.min(weights))*\u001B[32m2\u001B[39m\n",
      "\u001B[31mNameError\u001B[39m: name 'weights' is not defined"
     ]
    }
   ],
   "execution_count": 11
  },
  {
   "cell_type": "code",
   "metadata": {
    "ExecuteTime": {
     "end_time": "2025-05-08T16:20:27.903437100Z",
     "start_time": "2025-05-08T16:12:34.519476Z"
    }
   },
   "source": [
    "plt.scatter(test_set[:, 1], test_set[:, 2], c=test_labels, s=weights, cmap='autumn')\n",
    "\n",
    "\n",
    "plt.show()"
   ],
   "outputs": [
    {
     "ename": "NameError",
     "evalue": "name 'test_set' is not defined",
     "output_type": "error",
     "traceback": [
      "\u001B[31m---------------------------------------------------------------------------\u001B[39m",
      "\u001B[31mNameError\u001B[39m                                 Traceback (most recent call last)",
      "\u001B[36mCell\u001B[39m\u001B[36m \u001B[39m\u001B[32mIn[12]\u001B[39m\u001B[32m, line 1\u001B[39m\n\u001B[32m----> \u001B[39m\u001B[32m1\u001B[39m plt.scatter(test_set[:, \u001B[32m1\u001B[39m], test_set[:, \u001B[32m2\u001B[39m], c=test_labels, s=weights, cmap=\u001B[33m'\u001B[39m\u001B[33mautumn\u001B[39m\u001B[33m'\u001B[39m)\n\u001B[32m      4\u001B[39m plt.show()\n",
      "\u001B[31mNameError\u001B[39m: name 'test_set' is not defined"
     ]
    }
   ],
   "execution_count": 12
  }
 ],
 "metadata": {
  "kernelspec": {
   "display_name": "Python 3",
   "language": "python",
   "name": "python3"
  },
  "language_info": {
   "codemirror_mode": {
    "name": "ipython",
    "version": 3
   },
   "file_extension": ".py",
   "mimetype": "text/x-python",
   "name": "python",
   "nbconvert_exporter": "python",
   "pygments_lexer": "ipython3",
   "version": "3.6.9"
  }
 },
 "nbformat": 4,
 "nbformat_minor": 4
}
